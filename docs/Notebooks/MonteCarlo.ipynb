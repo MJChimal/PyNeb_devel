{
 "cells": [
  {
   "cell_type": "markdown",
   "id": "4fb57ef8-2e90-4572-9373-7c6ef6b8f036",
   "metadata": {},
   "source": [
    "Import needed libraries"
   ]
  },
  {
   "cell_type": "code",
   "execution_count": 1,
   "id": "aeddc13a-1f2c-401c-9a43-20ed358ca368",
   "metadata": {},
   "outputs": [],
   "source": [
    "import numpy as np\n",
    "import matplotlib.pyplot as plt\n",
    "%matplotlib inline\n",
    "import pyneb as pn"
   ]
  },
  {
   "cell_type": "markdown",
   "id": "aefe16f7-d0c6-4d09-bf40-2f0d96492022",
   "metadata": {},
   "source": [
    "Read observation in the obs object"
   ]
  },
  {
   "cell_type": "code",
   "execution_count": 2,
   "id": "3603c893-993a-46d4-ac3e-bb035e6744ff",
   "metadata": {},
   "outputs": [],
   "source": [
    "obs = pn.Observation(obsFile='./observations1.dat', fileFormat='lines_in_rows', err_default=0.05)"
   ]
  },
  {
   "cell_type": "markdown",
   "id": "4bb43db3-1256-446a-b34e-44801f089163",
   "metadata": {},
   "source": [
    "Add 100 synthetic observations, based on the observed intensities and the errors on them (here default value is 5%)"
   ]
  },
  {
   "cell_type": "code",
   "execution_count": 3,
   "id": "1bff8784-d769-4507-b1b4-e9854321e5c1",
   "metadata": {},
   "outputs": [],
   "source": [
    "obs.addMonteCarloObs(N=100)"
   ]
  },
  {
   "cell_type": "markdown",
   "id": "680a6e5e-b8a1-4080-88e9-e81ed2f12350",
   "metadata": {},
   "source": [
    "Reset Hbeta to 100, it hase no error by definition"
   ]
  },
  {
   "cell_type": "code",
   "execution_count": 4,
   "id": "b9b9343f-c749-4007-80dc-f975134c719e",
   "metadata": {},
   "outputs": [],
   "source": [
    "l = obs.getLine(label='H1r_4861A')\n",
    "l.obsIntens = np.ones_like(l.obsIntens) * 100"
   ]
  },
  {
   "cell_type": "markdown",
   "id": "940d8a38-1e77-46af-896a-09591c2efe2d",
   "metadata": {},
   "source": [
    "Correct observations from reddening"
   ]
  },
  {
   "cell_type": "code",
   "execution_count": 5,
   "id": "f00e952a-692f-470b-a2e2-c623a03e21ee",
   "metadata": {},
   "outputs": [],
   "source": [
    "obs.def_EBV(label1='H1r_6563A', label2='H1r_4861A', r_theo=2.85)"
   ]
  },
  {
   "cell_type": "code",
   "execution_count": 6,
   "id": "59c99a90-98bf-4644-8db8-986706d648eb",
   "metadata": {},
   "outputs": [],
   "source": [
    "obs.correctData(normWave=4861.)"
   ]
  },
  {
   "cell_type": "markdown",
   "id": "2d56ae95-d631-4103-a5c2-1fd2e11f07a4",
   "metadata": {},
   "source": [
    "Have a look at the line intensities: 101 values for each one (the first value is the original one)."
   ]
  },
  {
   "cell_type": "code",
   "execution_count": 7,
   "id": "448f76d8-7644-4be6-b087-55bbb77ddbee",
   "metadata": {},
   "outputs": [
    {
     "name": "stdout",
     "output_type": "stream",
     "text": [
      "S4_10.5m      4.076    5.048    3.844    3.908    4.187    4.290    3.981    3.480    5.221    5.766    2.930    4.989    4.498    3.841    4.303    3.528    3.894    4.896    5.824    4.189    3.668    3.537    4.367    2.743    3.109    6.021    3.761    3.619    3.759    4.394    3.181    3.705    5.032    4.700    4.137    3.278    4.624    3.215    5.417    5.685    4.320    4.413    4.997    4.297    4.485    3.607    3.787    4.795    3.359    3.935    3.031    3.634    2.909    4.581    4.349    4.831    3.291    2.728    3.619    5.664    3.936    4.018    4.782    4.232    4.061    3.915    4.472    3.762    3.691    4.011    3.946    4.166    4.409    4.231    4.493    4.020    4.236    3.614    4.946    4.286    4.851    4.081    3.855    3.565    4.970    4.113    3.518    4.581    3.632    3.682    3.615    4.338    3.889    4.325    4.483    3.449    3.600    3.183    3.974    4.779    4.704\n",
      "Ne2_12.8m     4.826    6.226    4.358    4.910    5.100    5.019    4.992    4.116    6.302    6.265    3.142    5.977    5.327    4.808    5.111    4.205    4.700    5.906    6.529    5.027    4.135    3.865    5.420    3.405    4.188    7.312    4.409    4.356    4.292    4.756    3.482    4.280    6.384    5.374    4.671    4.080    6.232    3.798    6.383    6.381    5.055    5.116    6.073    4.999    5.522    4.679    4.226    5.155    4.067    4.145    3.715    4.894    3.481    5.345    5.793    6.086    4.091    3.165    4.561    6.386    4.264    4.765    5.807    4.975    4.870    4.212    5.725    4.904    3.713    4.451    4.861    4.549    4.825    5.786    4.938    4.590    4.648    4.363    5.785    5.087    5.852    4.885    4.686    4.076    5.723    4.850    4.976    4.767    4.131    3.905    4.631    5.036    4.344    5.510    5.812    4.559    4.168    4.060    4.953    5.449    5.606\n",
      "Ne3_15.6m    19.803   24.409   17.975   21.399   20.126   19.236   20.863   17.516   25.638   28.683   13.414   26.063   23.043   19.623   20.830   18.406   18.764   25.476   29.043   22.047   17.117   16.410   20.302   14.836   16.384   31.074   18.900   17.248   18.452   21.098   15.649   18.416   26.320   22.311   21.479   17.429   24.235   14.902   27.533   27.623   20.624   22.628   26.025   21.115   22.121   20.080   19.725   22.192   18.460   17.599   16.129   20.535   14.465   21.890   24.144   21.919   17.813   14.030   17.864   26.934   18.551   19.740   23.465   19.380   19.251   17.745   21.944   17.635   17.951   19.585   20.502   20.741   20.342   22.152   20.867   18.542   20.452   17.975   23.403   21.465   24.123   20.455   18.928   16.043   25.537   19.885   18.018   21.272   16.815   17.684   18.832   22.429   17.792   22.395   24.265   16.948   18.196   17.477   19.852   19.868   22.046\n",
      "S3_18.7m      5.802    7.569    4.910    5.960    6.104    6.388    5.931    4.978    6.757    8.203    4.320    7.287    6.535    5.004    5.737    4.360    5.830    6.889    7.809    6.615    5.445    5.275    6.834    4.274    4.834    8.209    5.193    5.387    4.814    5.417    4.379    5.152    7.948    6.434    6.024    4.889    7.061    4.980    7.258    7.816    6.408    6.400    7.373    6.217    6.328    5.448    6.078    6.183    5.229    5.132    4.339    5.691    4.542    6.217    6.793    6.108    4.490    3.742    5.139    7.974    5.964    5.493    6.767    5.493    5.538    5.857    6.544    4.802    4.840    5.495    5.952    5.586    6.624    6.830    5.715    5.992    5.866    5.375    6.992    5.655    6.286    5.517    5.649    4.723    6.616    5.967    5.262    5.876    4.879    4.653    4.836    6.382    5.128    6.817    6.494    5.196    4.630    5.136    5.693    6.555    6.449\n",
      "O2_3726A     46.576   41.281   48.352   39.956   47.060   45.550   44.513   49.930   43.792   43.206   57.003   42.999   43.041   44.744   42.838   50.824   47.326   45.745   39.086   44.482   49.096   51.202   43.495   48.877   47.641   41.974   44.217   46.227   47.273   45.372   48.595   45.821   42.818   44.027   48.427   47.269   46.379   51.319   44.646   41.902   46.548   44.513   43.305   43.919   44.413   47.707   45.813   44.189   46.692   46.689   46.664   43.681   47.068   46.169   42.531   42.928   49.806   51.238   49.842   39.518   46.283   50.861   45.169   46.102   48.893   51.534   42.414   53.324   49.177   49.914   48.045   42.645   45.961   41.125   43.413   45.166   49.079   44.584   45.122   45.375   45.096   45.668   49.119   48.110   43.512   45.050   48.218   47.144   45.046   44.631   47.166   44.910   50.374   44.157   45.202   51.342   49.577   48.040   44.559   48.523   44.713\n",
      "O2_3729A     21.812   21.031   22.975   22.200   23.163   20.679   20.343   22.922   21.380   20.255   24.079   18.997   20.784   21.505   21.113   21.891   22.693   20.664   20.328   19.367   23.232   23.068   20.420   23.857   24.194   19.636   24.903   23.569   23.628   22.611   22.593   22.549   20.924   18.990   20.831   22.046   21.776   25.041   20.045   19.098   21.915   22.613   19.898   21.027   20.334   21.657   23.527   20.168   23.040   21.579   23.303   21.686   24.728   19.228   21.102   20.785   22.994   23.367   23.945   20.600   24.141   22.439   19.319   21.981   20.789   21.878   20.442   22.751   21.775   23.202   21.822   21.434   22.916   23.450   23.443   21.987   21.005   21.109   20.778   21.409   20.275   21.456   19.890   22.558   21.804   21.709   22.355   22.399   20.854   23.589   22.201   21.666   22.798   22.875   22.086   21.551   21.805   21.816   21.869   21.470   21.427\n",
      "Ne3_3869A    21.722   20.174   21.570   20.183   21.401   23.104   21.484   24.668   19.850   18.557   24.784   19.825   21.489   23.934   20.950   25.299   20.243   18.886   19.780   22.306   21.207   22.871   20.610   23.132   23.143   18.725   24.042   20.669   21.191   19.480   23.605   22.061   21.607   20.455   21.963   22.909   21.185   24.062   18.944   20.789   20.314   19.581   18.351   22.746   19.858   21.817   22.190   21.070   22.815   22.224   22.706   21.402   22.280   21.579   20.262   21.745   23.140   24.219   21.578   20.712   23.035   20.445   21.899   23.757   20.800   23.218   20.822   24.062   23.565   22.835   20.635   20.580   21.632   19.904   22.792   22.404   23.895   22.123   19.824   20.583   22.761   22.137   22.330   22.614   20.703   21.281   22.148   20.401   23.821   24.264   21.114   20.370   24.543   20.611   21.832   21.443   21.901   21.634   23.144   21.778   21.403\n",
      "Ne3_3968A     7.255    6.501    7.641    6.993    7.180    7.316    6.810    7.539    6.481    6.848    8.758    6.711    7.100    7.355    7.011    7.088    7.325    7.168    6.074    7.298    7.247    8.010    7.017    7.978    8.199    6.299    7.439    7.210    6.878    7.206    7.081    6.985    6.838    7.119    7.341    8.084    7.529    7.482    6.131    7.309    7.011    7.695    7.202    7.091    7.125    7.515    7.538    7.200    7.174    7.514    7.925    7.816    7.269    7.097    7.175    7.089    7.422    8.573    7.784    6.692    7.163    7.631    6.292    6.565    6.969    7.557    7.189    7.817    7.702    7.712    7.780    7.489    6.900    7.040    7.103    7.225    7.533    7.252    7.053    6.988    7.446    7.428    6.955    7.461    7.748    7.055    7.652    7.300    7.111    6.998    7.460    6.934    7.334    6.785    7.381    6.967    7.920    7.547    8.159    7.425    6.900\n",
      "S2_4069A      0.950    0.872    0.977    1.052    0.909    0.876    0.902    0.981    0.980    0.807    1.005    0.865    1.099    0.941    0.927    0.992    0.900    0.938    0.861    0.945    0.950    1.027    0.960    1.007    0.996    0.926    0.953    0.972    0.987    0.851    1.094    1.059    0.886    0.921    0.875    0.936    0.930    1.087    0.936    0.908    0.978    0.964    0.862    0.960    0.912    0.977    1.034    0.922    0.936    0.954    1.067    1.024    0.902    0.920    0.950    0.947    0.921    1.042    0.965    0.890    0.990    1.002    0.954    0.894    1.041    0.979    0.925    0.932    0.960    0.912    0.980    0.876    0.911    0.911    0.892    0.946    0.977    0.961    0.897    0.932    0.933    0.929    0.886    0.951    0.901    0.963    0.916    0.986    1.158    0.998    0.932    0.869    0.908    1.020    0.918    0.958    0.965    1.024    0.860    0.990    0.965\n",
      "S2_4076A      0.503    0.491    0.508    0.511    0.490    0.539    0.496    0.512    0.495    0.494    0.536    0.469    0.478    0.514    0.550    0.549    0.519    0.458    0.470    0.498    0.510    0.492    0.523    0.530    0.570    0.460    0.541    0.517    0.525    0.519    0.509    0.461    0.451    0.514    0.458    0.528    0.524    0.510    0.460    0.459    0.481    0.476    0.466    0.481    0.458    0.523    0.555    0.504    0.531    0.519    0.551    0.505    0.540    0.475    0.485    0.459    0.504    0.549    0.502    0.418    0.533    0.515    0.511    0.484    0.534    0.548    0.497    0.550    0.568    0.536    0.528    0.517    0.458    0.471    0.517    0.489    0.480    0.518    0.467    0.534    0.475    0.504    0.473    0.512    0.503    0.568    0.496    0.472    0.522    0.489    0.535    0.504    0.508    0.517    0.515    0.519    0.511    0.553    0.537    0.432    0.479\n",
      "O3_4363A      4.687    4.390    5.201    4.759    4.923    4.486    4.396    4.718    4.348    4.365    5.074    4.906    4.788    4.639    4.892    4.611    4.924    4.213    4.422    4.724    4.817    4.670    4.880    4.935    4.713    4.308    4.723    4.648    5.162    4.452    5.001    4.610    4.698    4.383    4.887    4.915    4.447    4.961    4.356    4.283    4.596    4.661    4.451    4.977    5.022    4.459    4.830    4.373    4.578    4.533    5.010    4.579    4.822    4.686    5.012    4.766    4.993    4.776    4.902    4.614    4.735    4.680    4.647    4.784    4.811    4.894    4.801    4.557    4.638    5.018    5.179    4.636    4.628    4.690    4.540    4.444    4.935    4.666    4.737    4.902    4.305    4.331    4.670    4.857    4.690    4.788    4.945    4.586    4.725    4.535    4.731    4.911    4.607    4.393    4.222    4.754    4.766    5.082    4.391    5.140    4.606\n",
      "H1r_4861A   100.000  100.000  100.000  100.000  100.000  100.000  100.000  100.000  100.000  100.000  100.000  100.000  100.000  100.000  100.000  100.000  100.000  100.000  100.000  100.000  100.000  100.000  100.000  100.000  100.000  100.000  100.000  100.000  100.000  100.000  100.000  100.000  100.000  100.000  100.000  100.000  100.000  100.000  100.000  100.000  100.000  100.000  100.000  100.000  100.000  100.000  100.000  100.000  100.000  100.000  100.000  100.000  100.000  100.000  100.000  100.000  100.000  100.000  100.000  100.000  100.000  100.000  100.000  100.000  100.000  100.000  100.000  100.000  100.000  100.000  100.000  100.000  100.000  100.000  100.000  100.000  100.000  100.000  100.000  100.000  100.000  100.000  100.000  100.000  100.000  100.000  100.000  100.000  100.000  100.000  100.000  100.000  100.000  100.000  100.000  100.000  100.000  100.000  100.000  100.000  100.000\n",
      "O3_5007A    425.599  424.100  394.346  403.085  431.515  423.682  415.137  454.546  427.383  447.886  401.185  413.556  416.456  419.601  416.176  420.017  417.065  409.569  441.126  420.378  419.159  459.484  408.673  411.062  443.339  440.899  419.656  402.852  406.754  417.833  393.883  454.982  404.679  404.408  420.587  401.153  438.415  440.572  434.558  381.304  412.364  460.951  433.247  394.689  438.524  420.020  438.334  431.649  451.250  431.735  413.404  443.539  442.004  446.424  443.902  418.159  388.266  410.831  420.034  392.849  422.658  445.669  442.246  413.971  407.375  434.255  419.570  439.211  446.956  415.898  412.865  399.263  431.496  388.028  387.791  405.658  406.651  414.388  441.423  416.136  413.953  441.333  410.217  451.662  460.281  423.289  376.782  406.732  400.512  422.584  392.179  452.268  409.649  441.353  404.149  449.967  438.857  403.801  407.282  460.281  427.093\n",
      "N2_5755A      0.454    0.516    0.434    0.462    0.509    0.454    0.432    0.418    0.485    0.513    0.424    0.502    0.491    0.451    0.420    0.452    0.457    0.488    0.449    0.494    0.415    0.439    0.494    0.401    0.415    0.486    0.474    0.456    0.437    0.462    0.409    0.449    0.476    0.454    0.475    0.458    0.490    0.430    0.477    0.465    0.479    0.405    0.491    0.421    0.476    0.432    0.444    0.469    0.448    0.439    0.418    0.442    0.425    0.472    0.451    0.453    0.443    0.416    0.441    0.485    0.438    0.448    0.457    0.449    0.473    0.419    0.449    0.409    0.438    0.429    0.448    0.414    0.444    0.440    0.467    0.467    0.407    0.497    0.426    0.455    0.448    0.460    0.469    0.441    0.471    0.450    0.465    0.428    0.454    0.409    0.448    0.465    0.466    0.476    0.466    0.400    0.426    0.438    0.451    0.444    0.483\n",
      "S3_6312A      0.641    0.677    0.643    0.676    0.647    0.644    0.662    0.633    0.735    0.737    0.585    0.704    0.648    0.645    0.642    0.588    0.663    0.731    0.653    0.685    0.619    0.612    0.672    0.598    0.574    0.744    0.546    0.618    0.625    0.655    0.541    0.565    0.669    0.660    0.641    0.660    0.649    0.622    0.717    0.684    0.671    0.691    0.667    0.626    0.668    0.553    0.615    0.657    0.652    0.564    0.567    0.650    0.628    0.674    0.753    0.666    0.610    0.571    0.637    0.732    0.629    0.642    0.606    0.623    0.670    0.640    0.654    0.666    0.614    0.615    0.628    0.664    0.648    0.629    0.625    0.629    0.665    0.593    0.655    0.661    0.678    0.676    0.619    0.580    0.753    0.653    0.575    0.688    0.609    0.623    0.632    0.660    0.606    0.630    0.706    0.671    0.574    0.607    0.654    0.674    0.645\n",
      "O1_6300A      1.428    1.588    1.419    1.396    1.376    1.441    1.414    1.281    1.532    1.666    1.363    1.670    1.446    1.412    1.491    1.483    1.433    1.405    1.491    1.510    1.232    1.365    1.470    1.252    1.340    1.748    1.440    1.366    1.352    1.411    1.294    1.356    1.521    1.419    1.324    1.420    1.537    1.352    1.557    1.507    1.400    1.355    1.512    1.415    1.403    1.350    1.294    1.412    1.379    1.396    1.411    1.397    1.269    1.389    1.660    1.500    1.384    1.235    1.410    1.485    1.545    1.376    1.425    1.472    1.604    1.487    1.532    1.388    1.313    1.358    1.430    1.386    1.427    1.489    1.442    1.335    1.332    1.347    1.410    1.519    1.469    1.416    1.506    1.420    1.444    1.460    1.326    1.353    1.309    1.400    1.286    1.423    1.449    1.399    1.404    1.347    1.273    1.276    1.507    1.481    1.490\n",
      "O1_6364A      0.454    0.516    0.400    0.483    0.468    0.462    0.478    0.395    0.485    0.467    0.435    0.476    0.441    0.450    0.490    0.400    0.492    0.477    0.446    0.465    0.407    0.469    0.480    0.424    0.462    0.468    0.444    0.410    0.440    0.501    0.402    0.455    0.505    0.494    0.449    0.429    0.499    0.396    0.518    0.453    0.464    0.498    0.474    0.464    0.427    0.446    0.446    0.492    0.455    0.430    0.413    0.441    0.467    0.453    0.454    0.502    0.449    0.425    0.473    0.520    0.435    0.414    0.451    0.451    0.461    0.462    0.509    0.451    0.454    0.413    0.459    0.462    0.423    0.488    0.457    0.445    0.477    0.413    0.470    0.433    0.484    0.455    0.455    0.437    0.459    0.473    0.428    0.445    0.428    0.444    0.435    0.493    0.424    0.474    0.467    0.424    0.450    0.411    0.449    0.428    0.458\n",
      "N2_6548A      5.657    6.239    5.397    6.019    5.329    5.366    5.612    5.268    5.890    5.660    5.188    5.901    5.932    5.017    5.668    5.053    5.603    6.345    6.156    5.370    5.409    5.170    4.902    5.333    5.338    6.836    5.145    5.637    5.368    5.594    5.486    5.356    6.211    5.681    5.538    5.088    6.177    5.073    6.186    6.150    5.639    5.972    6.802    5.412    6.054    5.855    5.005    6.204    5.262    4.805    5.616    5.650    5.106    5.764    5.947    6.171    5.318    4.629    5.641    6.261    4.984    5.661    5.959    5.833    5.705    5.437    6.085    5.510    5.120    5.162    5.842    5.650    5.877    5.802    5.556    5.833    5.800    4.995    5.948    5.799    5.766    6.182    5.230    5.405    5.990    5.689    5.413    6.201    5.120    5.332    5.618    5.362    5.509    6.053    5.788    5.365    5.550    5.733    5.810    5.195    6.426\n",
      "H1r_6563A   285.000  285.000  285.000  285.000  285.000  285.000  285.000  285.000  285.000  285.000  285.000  285.000  285.000  285.000  285.000  285.000  285.000  285.000  285.000  285.000  285.000  285.000  285.000  285.000  285.000  285.000  285.000  285.000  285.000  285.000  285.000  285.000  285.000  285.000  285.000  285.000  285.000  285.000  285.000  285.000  285.000  285.000  285.000  285.000  285.000  285.000  285.000  285.000  285.000  285.000  285.000  285.000  285.000  285.000  285.000  285.000  285.000  285.000  285.000  285.000  285.000  285.000  285.000  285.000  285.000  285.000  285.000  285.000  285.000  285.000  285.000  285.000  285.000  285.000  285.000  285.000  285.000  285.000  285.000  285.000  285.000  285.000  285.000  285.000  285.000  285.000  285.000  285.000  285.000  285.000  285.000  285.000  285.000  285.000  285.000  285.000  285.000  285.000  285.000  285.000  285.000\n",
      "N2_6584A     15.668   17.155   15.904   17.297   15.331   15.976   14.709   16.364   16.672   16.682   14.732   15.541   17.743   15.907   15.375   14.788   14.872   18.237   17.679   16.572   13.628   14.187   16.418   14.832   15.281   18.518   15.352   15.438   15.910   15.331   15.103   15.682   14.983   16.289   16.595   14.806   15.107   14.235   16.122   16.284   15.620   15.316   17.443   17.088   15.435   14.877   15.396   17.430   15.858   15.616   14.457   14.274   15.104   15.800   17.851   17.776   13.529   12.997   15.272   18.368   14.542   16.691   17.105   14.519   15.753   14.531   16.642   16.322   14.116   15.197   15.911   16.265   16.022   14.777   15.387   13.290   16.332   15.890   17.704   14.693   16.079   16.062   15.045   15.820   16.368   16.908   14.386   16.324   15.592   15.426   14.417   16.321   16.421   16.898   15.563   16.279   16.099   16.371   17.028   15.652   17.710\n",
      "S2_6716A      0.995    1.052    0.972    1.004    1.009    1.053    0.924    0.920    1.120    1.145    0.882    1.119    1.011    0.948    0.997    0.923    0.901    1.041    1.176    1.086    0.877    0.918    1.044    0.868    0.902    1.123    0.945    0.908    0.807    0.920    0.909    0.959    1.128    1.083    1.019    0.929    1.161    0.845    1.145    1.106    1.104    1.030    1.005    1.016    0.922    1.025    1.021    1.061    0.936    0.895    0.925    0.983    0.889    1.065    1.115    1.086    0.881    0.893    0.918    1.139    0.953    1.003    1.080    1.028    1.111    0.923    1.024    0.972    0.871    0.905    1.056    0.993    0.913    1.062    0.997    0.966    1.048    0.923    1.004    1.043    0.973    0.979    0.908    0.931    1.109    1.005    0.950    0.951    0.927    0.865    1.057    1.053    0.987    1.081    1.053    0.911    0.952    0.965    0.940    0.996    1.069\n",
      "S2_6731A      1.777    2.051    1.510    1.649    1.612    1.714    1.867    1.810    1.847    1.850    1.538    1.966    1.863    1.619    1.722    1.809    1.694    1.738    1.951    1.810    1.691    1.619    1.719    1.770    1.619    2.077    1.813    1.773    1.703    1.861    1.540    1.756    1.974    1.954    1.814    1.606    1.800    1.632    2.002    2.040    1.897    1.779    1.987    1.729    1.919    1.797    1.944    1.911    1.597    1.597    1.665    1.621    1.617    1.908    1.980    1.945    1.853    1.731    1.683    2.032    1.899    1.592    2.093    1.763    1.848    1.746    1.979    1.693    1.588    1.696    1.664    1.763    1.716    2.007    1.912    1.691    1.796    1.684    1.785    1.708    1.898    1.893    1.822    1.682    2.044    1.544    1.726    2.023    1.731    1.756    1.726    1.778    1.734    1.838    1.804    1.584    1.696    1.552    1.864    1.642    1.774\n",
      "Ar3_7136A     3.882    4.955    3.470    3.678    3.815    3.963    4.067    3.718    3.940    4.494    3.246    3.986    4.150    3.652    3.858    3.851    3.747    4.184    4.381    4.016    3.524    3.819    3.883    3.476    3.777    4.622    3.789    3.618    3.436    4.330    3.425    3.752    4.561    4.262    4.263    3.643    3.822    3.136    4.625    4.285    3.839    4.295    4.580    4.133    3.803    3.804    3.750    4.116    3.534    3.283    3.714    3.803    3.582    4.196    3.988    4.557    3.800    3.392    3.503    4.311    3.980    3.854    4.242    3.969    3.952    4.226    3.832    4.236    3.684    4.055    3.751    3.919    4.263    3.762    4.138    3.609    3.969    3.927    4.344    3.764    4.328    4.100    3.704    4.055    4.018    3.895    3.904    4.064    3.637    3.761    3.546    4.062    3.606    4.482    4.313    3.862    3.361    3.761    3.381    4.008    4.296\n",
      "O2_7319A+     5.106    5.519    4.490    5.367    5.413    5.194    4.955    4.629    5.967    5.376    4.585    5.491    5.290    4.786    5.659    5.426    4.923    5.329    5.675    5.052    4.762    4.730    5.525    4.403    4.865    5.819    4.769    4.862    4.480    5.147    4.820    4.852    5.971    5.503    5.176    4.721    5.536    4.367    5.949    5.781    5.658    5.346    5.737    5.777    5.504    5.371    4.723    4.925    4.505    4.853    4.412    5.097    4.411    5.470    5.582    5.680    4.699    4.166    5.026    6.087    5.094    4.964    5.310    4.865    5.187    4.579    5.428    4.922    5.026    4.968    5.360    5.157    5.674    5.438    5.621    5.129    5.295    4.658    5.724    5.249    6.081    5.265    4.979    4.999    5.645    5.301    4.860    5.471    4.506    4.251    5.063    5.599    4.706    5.564    5.386    5.138    5.241    5.005    5.562    5.074    4.874\n",
      "O2_7330A+     4.034    4.680    4.056    3.756    3.995    4.195    3.937    3.724    4.993    4.710    3.389    4.335    4.236    4.011    4.363    3.693    4.045    4.294    4.341    4.494    4.090    3.808    3.891    3.461    3.898    5.102    3.868    3.781    3.798    3.813    3.899    3.632    4.375    4.561    4.324    3.611    4.124    3.580    4.313    4.624    4.218    4.169    4.453    3.809    3.995    3.929    3.749    4.444    3.834    3.788    3.222    4.127    3.742    4.338    4.941    4.351    3.567    3.579    3.973    4.470    3.854    3.982    4.606    4.178    4.159    3.691    4.688    3.708    3.786    3.943    4.006    4.025    3.739    3.938    4.322    3.832    4.313    3.773    4.345    3.874    4.036    4.028    3.977    3.836    4.326    4.338    4.033    4.567    3.791    3.926    3.646    4.084    4.022    4.366    4.157    3.656    3.968    3.520    4.126    4.061    3.861\n"
     ]
    }
   ],
   "source": [
    "obs.printIntens()"
   ]
  },
  {
   "cell_type": "markdown",
   "id": "46c5287d-5167-4b6c-b901-83a70fabcc70",
   "metadata": {},
   "source": [
    "Plot the histogram of [OIII]/H$\\beta$"
   ]
  },
  {
   "cell_type": "code",
   "execution_count": 8,
   "id": "84f2d209-2627-4de8-9043-326276b79f10",
   "metadata": {},
   "outputs": [
    {
     "data": {
      "image/png": "[encoded data removed]",
      "text/plain": [
       "<Figure size 432x288 with 1 Axes>"
      ]
     },
     "metadata": {
      "needs_background": "light"
     },
     "output_type": "display_data"
    }
   ],
   "source": [
    "f, ax = plt.subplots()\n",
    "ax.hist(obs.getIntens()['O3_5007A']/obs.getIntens()['H1r_4861A'], bins=20);"
   ]
  },
  {
   "cell_type": "markdown",
   "id": "d8178ea9-3444-4b7b-af38-167a36ae116d",
   "metadata": {},
   "source": [
    "Instantiate the diag object to compute the diagnostics"
   ]
  },
  {
   "cell_type": "code",
   "execution_count": 9,
   "id": "93cecbb3-2887-46fb-bb99-40e644a53933",
   "metadata": {},
   "outputs": [],
   "source": [
    "diag = pn.Diagnostics()"
   ]
  },
  {
   "cell_type": "markdown",
   "id": "252b2f0e-316c-4a44-b24b-d3ab6f968406",
   "metadata": {},
   "source": [
    "Consider all the diagnostics available given the observed lines"
   ]
  },
  {
   "cell_type": "code",
   "execution_count": 10,
   "id": "db0a6122-c151-4478-b188-af5c3e71e4ee",
   "metadata": {},
   "outputs": [],
   "source": [
    "diag.addDiagsFromObs(obs)"
   ]
  },
  {
   "cell_type": "markdown",
   "id": "5731a77b-560a-4d3f-8ec5-5bc84b8ab839",
   "metadata": {},
   "source": [
    "Have a look at the diagnostics"
   ]
  },
  {
   "cell_type": "code",
   "execution_count": 11,
   "id": "f2dc8ec3-81e9-4836-a738-1c572ddea32d",
   "metadata": {},
   "outputs": [
    {
     "data": {
      "text/plain": [
       "{'[NII] 5755/6548': ('N2', 'L(5755)/L(6548)', 'RMS([E(6548), E(5755)])'),\n",
       " '[NII] 5755/6584': ('N2', 'L(5755)/L(6584)', 'RMS([E(6584), E(5755)])'),\n",
       " '[NII] 5755/6584+': ('N2',\n",
       "  'L(5755)/(L(6548)+L(6584))',\n",
       "  'RMS([E(6548)*L(6548)/(L(6548)+L(6584)), E(6584)*L(6584)/(L(6584)+L(6548)), E(5755)])'),\n",
       " '[OII] 3726/3729': ('O2', 'L(3726)/L(3729)', 'RMS([E(3729), E(3726)])'),\n",
       " '[OII] 3727+/7325+': ('O2',\n",
       "  '(L(3726)+L(3729))/(B(\"7319A+\")+B(\"7330A+\"))',\n",
       "  'RMS([E(3726)*L(3726)/(L(3726)+L(3729)), E(3729)*L(3729)/(L(3726)+L(3729)),BE(\"7319A+\")*B(\"7319A+\")/(B(\"7319A+\")+B(\"7330A+\")),BE(\"7330A+\")*B(\"7330A+\")/(B(\"7319A+\")+B(\"7330A+\"))])'),\n",
       " '[OIII] 4363/5007': ('O3', 'L(4363)/L(5007)', 'RMS([E(5007), E(4363)])'),\n",
       " '[SII] 6731/6716': ('S2', 'L(6731)/L(6716)', 'RMS([E(6716), E(6731)])'),\n",
       " '[SII] 4069/4076': ('S2', 'L(4069)/L(4076)', 'RMS([E(4069), E(4076)])'),\n",
       " '[SII] 4072+/6720+': ('S2',\n",
       "  '(L(4069)+L(4076))/(L(6716)+L(6731))',\n",
       "  'RMS([E(6716)*L(6716)/(L(6716)+L(6731)), E(6731)*L(6731)/(L(6716)+L(6731)), E(4069)*L(4069)/(L(4069)+L(4076)), E(4076)*L(4076)/(L(4069)+L(4076))])'),\n",
       " '[SIII] 6312/18.7m': ('S3', 'L(6312)/L(187000)', 'RMS([E(187000), E(6312)])'),\n",
       " '[NeIII] 3869/15.6m': ('Ne3',\n",
       "  'L(3869)/L(156000)',\n",
       "  'RMS([E(156000), E(3869)])'),\n",
       " '[NeIII] 3930+/15.6m': ('Ne3',\n",
       "  '(L(3869)+L(3968))/L(156000)',\n",
       "  'RMS([E(156000), E(3869)*L(3869)/(L(3869)+L(3968)), E(3968)*L(3968)/(L(3869)+L(3968))])')}"
      ]
     },
     "execution_count": 11,
     "metadata": {},
     "output_type": "execute_result"
    }
   ],
   "source": [
    "diag.diags"
   ]
  },
  {
   "cell_type": "markdown",
   "id": "29b7afc7-7edb-4d1c-9bb7-fd6652c761d1",
   "metadata": {},
   "source": [
    "Get a list of all the atoms string involved in the observations"
   ]
  },
  {
   "cell_type": "code",
   "execution_count": 12,
   "id": "5729c4d7-3710-4688-aaf4-92e20c2a638b",
   "metadata": {},
   "outputs": [],
   "source": [
    "all_atoms = obs.getUniqueAtoms()"
   ]
  },
  {
   "cell_type": "code",
   "execution_count": 13,
   "id": "2897fdad-7144-42e1-968a-7de0029a269c",
   "metadata": {},
   "outputs": [
    {
     "data": {
      "text/plain": [
       "array(['Ar3', 'H1r', 'N2', 'Ne2', 'Ne3', 'O1', 'O2', 'O3', 'S2', 'S3',\n",
       "       'S4'], dtype='<U3')"
      ]
     },
     "execution_count": 13,
     "metadata": {},
     "output_type": "execute_result"
    }
   ],
   "source": [
    "all_atoms"
   ]
  },
  {
   "cell_type": "markdown",
   "id": "882a7925-7d4a-47cb-af04-2901097133db",
   "metadata": {},
   "source": [
    "Creat a dictionnary of all the emisGrids that are doable from the atoms previously defined."
   ]
  },
  {
   "cell_type": "code",
   "execution_count": 14,
   "id": "49cac842-612c-464c-a811-5df92186aa96",
   "metadata": {},
   "outputs": [
    {
     "name": "stdout",
     "output_type": "stream",
     "text": [
      "warng getEmisGridDict: Emission map not found: ./pypics//emis_H1r.pypic\n",
      "warng _ManageAtomicData: atom data not available for H1\n",
      "warng _ManageAtomicData: coll data not available for H1\n",
      "warng getEmisGridDict: No H1r EmisGrid\n"
     ]
    }
   ],
   "source": [
    "emisDict = pn.getEmisGridDict(atom_list=all_atoms)"
   ]
  },
  {
   "cell_type": "code",
   "execution_count": 15,
   "id": "80db49aa-eba5-454f-8ea8-2696fab0a10d",
   "metadata": {},
   "outputs": [
    {
     "data": {
      "text/plain": [
       "{'Ar3': <pyneb.core.emisGrid.EmisGrid at 0x7fe4e8570970>,\n",
       " 'N2': <pyneb.core.emisGrid.EmisGrid at 0x7fe5028db130>,\n",
       " 'Ne2': <pyneb.core.emisGrid.EmisGrid at 0x7fe4e86a3be0>,\n",
       " 'Ne3': <pyneb.core.emisGrid.EmisGrid at 0x7fe520191a60>,\n",
       " 'O1': <pyneb.core.emisGrid.EmisGrid at 0x7fe4e8570400>,\n",
       " 'O2': <pyneb.core.emisGrid.EmisGrid at 0x7fe4e859a3d0>,\n",
       " 'O3': <pyneb.core.emisGrid.EmisGrid at 0x7fe4e84ebf40>,\n",
       " 'S2': <pyneb.core.emisGrid.EmisGrid at 0x7fe4e84eb940>,\n",
       " 'S3': <pyneb.core.emisGrid.EmisGrid at 0x7fe4e84eba60>,\n",
       " 'S4': <pyneb.core.emisGrid.EmisGrid at 0x7fe4e84ebc70>}"
      ]
     },
     "execution_count": 15,
     "metadata": {},
     "output_type": "execute_result"
    }
   ],
   "source": [
    "emisDict"
   ]
  },
  {
   "cell_type": "markdown",
   "id": "c85f341c-7565-4d3d-ab29-d4dce36f74b1",
   "metadata": {},
   "source": [
    "Plot the diagnostic diagram from the previously defined dictionnary. Only the 1rst value of the observations, the original one."
   ]
  },
  {
   "cell_type": "code",
   "execution_count": 16,
   "id": "8207083a-07e2-4fcb-ba71-20183ad7b17e",
   "metadata": {},
   "outputs": [
    {
     "name": "stderr",
     "output_type": "stream",
     "text": [
      "/mnt/md5/data/morisset/insync/GoogleDrive_chris_morisset/Pro/PyNeb_devel/pyneb/core/diags.py:636: UserWarning: No contour levels were found within the data range.\n",
      "  CS = ax.contour(X, Y, diag_map, levels=[diag_value], colors=col, linestyles=style)\n"
     ]
    },
    {
     "data": {
      "image/png": "[encoded data removed]",
      "text/plain": [
       "<Figure size 432x288 with 1 Axes>"
      ]
     },
     "metadata": {
      "needs_background": "light"
     },
     "output_type": "display_data"
    }
   ],
   "source": [
    "diag.plot(emis_grids=emisDict, obs=obs, i_obs=0)"
   ]
  },
  {
   "cell_type": "markdown",
   "id": "8dd60815-8a9f-4987-91b0-ccae66bc7447",
   "metadata": {},
   "source": [
    "Compute Te and Ne from the crossing points of every synthetic observations."
   ]
  },
  {
   "cell_type": "code",
   "execution_count": 17,
   "id": "1d9a93b5-c43a-4704-aabe-09dd89f3b858",
   "metadata": {},
   "outputs": [],
   "source": [
    "T_O3, N_S2 = diag.getCrossTemDen('[OIII] 4363/5007', '[SII] 6731/6716', obs=obs)"
   ]
  },
  {
   "cell_type": "code",
   "execution_count": 18,
   "id": "9f647660-147a-4062-a2be-7efe402a1fdf",
   "metadata": {},
   "outputs": [
    {
     "data": {
      "image/png": "[encoded data removed]",
      "text/plain": [
       "<Figure size 432x288 with 1 Axes>"
      ]
     },
     "metadata": {
      "needs_background": "light"
     },
     "output_type": "display_data"
    }
   ],
   "source": [
    "f, ax = plt.subplots()\n",
    "ax.hist(T_O3, bins=20);"
   ]
  },
  {
   "cell_type": "code",
   "execution_count": 19,
   "id": "23877a82-9c4c-438f-82b5-e0e2efe6d040",
   "metadata": {},
   "outputs": [
    {
     "name": "stdout",
     "output_type": "stream",
     "text": [
      "Te = 11792.9 K +/- 307.5\n",
      "log Ne = 3.8 +/- 0.2  cm-3\n"
     ]
    }
   ],
   "source": [
    "print(f'Te = {np.nanmedian(T_O3):.1f} K +/- {np.nanstd(T_O3):.1f}')\n",
    "print(f'log Ne = {np.nanmedian(np.log10(N_S2)):.1f} +/- {np.nanstd(np.log10(N_S2)):.1f}  cm-3')"
   ]
  },
  {
   "cell_type": "markdown",
   "id": "091336bd-e870-4152-be28-b3906ed35f43",
   "metadata": {},
   "source": [
    "The following needs to have keras, scikit and ai4neb installed. It used machine learning to accelerate the computation of electron temperature and density. "
   ]
  },
  {
   "cell_type": "code",
   "execution_count": 20,
   "id": "bce33134-33eb-4e1e-91da-1c38dc444ff4",
   "metadata": {},
   "outputs": [],
   "source": [
    "pn.config.import_ai4neb()"
   ]
  },
  {
   "cell_type": "code",
   "execution_count": 21,
   "id": "23da110f-fc9e-4bac-a55e-1f5b34b2e4a1",
   "metadata": {},
   "outputs": [],
   "source": [
    "N_MonteCarlo = 10000 # do not try this without use_ANN = True, this will take too much time\n",
    "obs = pn.Observation(obsFile='./observations1.dat', fileFormat='lines_in_rows')\n",
    "obs.addMonteCarloObs(N=10000)\n",
    "l = obs.getLine(label='H1r_4861A')\n",
    "l.obsIntens = np.ones_like(l.obsIntens) * 100\n",
    "obs.def_EBV(label1='H1r_6563A', label2='H1r_4861A', r_theo=2.85)\n",
    "obs.correctData(normWave=4861.)\n",
    "diag = pn.Diagnostics()\n",
    "diag.addDiagsFromObs(obs)\n",
    "T_O3, N_S2 = diag.getCrossTemDen('[OIII] 4363/5007', '[SII] 6731/6716', obs=obs, use_ANN=True)"
   ]
  },
  {
   "cell_type": "code",
   "execution_count": 22,
   "id": "d4514759-7831-450c-9ad7-8102b6c353db",
   "metadata": {},
   "outputs": [
    {
     "name": "stdout",
     "output_type": "stream",
     "text": [
      "Te = 11748.6 K +/- 4185.2\n",
      "log Ne = 3.83 +/- 0.65  cm-3\n"
     ]
    }
   ],
   "source": [
    "print(f'Te = {np.nanmedian(T_O3):.1f} K +/- {np.nanstd(T_O3):.1f}')\n",
    "print(f'log Ne = {np.nanmedian(np.log10(N_S2)):.2f} +/- {np.nanstd(np.log10(N_S2)):.2f}  cm-3')"
   ]
  },
  {
   "cell_type": "code",
   "execution_count": 23,
   "id": "9597a0a5-6da7-49b9-af1c-616fa58b3c6a",
   "metadata": {},
   "outputs": [
    {
     "data": {
      "image/png": "[encoded data removed]",
      "text/plain": [
       "<Figure size 432x288 with 1 Axes>"
      ]
     },
     "metadata": {
      "needs_background": "light"
     },
     "output_type": "display_data"
    }
   ],
   "source": [
    "f, ax = plt.subplots()\n",
    "ax.hist(T_O3, bins=np.linspace(9000, 15000, 100));"
   ]
  },
  {
   "cell_type": "markdown",
   "id": "b5bf753c-a2ab-428b-a202-6a5b05f24b49",
   "metadata": {},
   "source": [
    "Redo the computation of reddening correction using coherent H$\\alpha$/H$\\beta$, taking into account previously determined Te and Ne"
   ]
  },
  {
   "cell_type": "code",
   "execution_count": 25,
   "id": "2daad66b-e53f-4f0d-9c06-f564c21a034e",
   "metadata": {},
   "outputs": [
    {
     "name": "stderr",
     "output_type": "stream",
     "text": [
      "/mnt/md5/data/morisset/insync/GoogleDrive_chris_morisset/Pro/PyNeb_devel/pyneb/core/pynebcore.py:3712: RuntimeWarning: divide by zero encountered in log10\n",
      "  logd = np.log10(deng)\n",
      "/mnt/md5/data/morisset/insync/GoogleDrive_chris_morisset/Pro/PyNeb_devel/pyneb/core/pynebcore.py:3730: RuntimeWarning: divide by zero encountered in true_divide\n",
      "  (1./temg, logd), method=method)\n"
     ]
    }
   ],
   "source": [
    "H1r = pn.RecAtom('H', 1)\n",
    "r_theo = H1r.getEmissivity(T_O3, N_S2, wave=6563, product=False) / H1r.getEmissivity(T_O3, N_S2, wave=4861, product=False)\n",
    "obs.def_EBV(label1='H1r_6563A', label2='H1r_4861A', r_theo=r_theo)\n",
    "obs.correctData(normWave=4861.)\n",
    "diag = pn.Diagnostics()\n",
    "diag.addDiagsFromObs(obs)\n",
    "T_O3, N_S2 = diag.getCrossTemDen('[OIII] 4363/5007', '[SII] 6731/6716', obs=obs, use_ANN=True)"
   ]
  },
  {
   "cell_type": "code",
   "execution_count": 26,
   "id": "73497328-d7b0-438b-8e47-64a1b807e23f",
   "metadata": {},
   "outputs": [
    {
     "name": "stdout",
     "output_type": "stream",
     "text": [
      "Te = 11742.3 K +/- 3882.3\n",
      "log Ne = 3.80 +/- nan  cm-3\n"
     ]
    },
    {
     "name": "stderr",
     "output_type": "stream",
     "text": [
      "/tmp/ipykernel_798200/3161403910.py:2: RuntimeWarning: divide by zero encountered in log10\n",
      "  print(f'log Ne = {np.nanmedian(np.log10(N_S2)):.2f} +/- {np.nanstd(np.log10(N_S2)):.2f}  cm-3')\n",
      "/mnt/md5/data/morisset/anaconda3/lib/python3.9/site-packages/numpy/lib/nanfunctions.py:1545: RuntimeWarning: invalid value encountered in subtract\n",
      "  np.subtract(arr, avg, out=arr, casting='unsafe')\n"
     ]
    }
   ],
   "source": [
    "print(f'Te = {np.nanmedian(T_O3):.1f} K +/- {np.nanstd(T_O3):.1f}')\n",
    "print(f'log Ne = {np.nanmedian(np.log10(N_S2)):.2f} +/- {np.nanstd(np.log10(N_S2)):.2f}  cm-3')"
   ]
  },
  {
   "cell_type": "code",
   "execution_count": 27,
   "id": "5093d190-4afa-417b-9e21-be818f198505",
   "metadata": {},
   "outputs": [
    {
     "name": "stdout",
     "output_type": "stream",
     "text": [
      "warng _ManageAtomicData: rec data not available for Ar3\n",
      "warng _ManageAtomicData: atom data not available for H1\n",
      "warng _ManageAtomicData: coll data not available for H1\n",
      "warng _ManageAtomicData: rec data not available for Ne3\n",
      "warng _ManageAtomicData: rec data not available for S2\n",
      "warng _ManageAtomicData: rec data not available for S3\n",
      "warng _ManageAtomicData: rec data not available for S4\n"
     ]
    },
    {
     "name": "stderr",
     "output_type": "stream",
     "text": [
      "/mnt/md5/data/morisset/insync/GoogleDrive_chris_morisset/Pro/PyNeb_devel/pyneb/core/pynebcore.py:957: RuntimeWarning: divide by zero encountered in log10\n",
      "  y = np.log10(x)\n",
      "/mnt/md5/data/morisset/insync/GoogleDrive_chris_morisset/Pro/PyNeb_devel/pyneb/core/pynebcore.py:1509: RuntimeWarning: divide by zero encountered in true_divide\n",
      "  resultArray[j][i] = CST.KCOLLRATE / tem ** 0.5 / stat_weight_j * Omegas[lev_j-1, lev_i-1]\n",
      "/mnt/md5/data/morisset/insync/GoogleDrive_chris_morisset/Pro/PyNeb_devel/pyneb/core/pynebcore.py:1511: RuntimeWarning: divide by zero encountered in true_divide\n",
      "  np.exp((energy_i - energy_j) / (CST.BOLTZMANN_ANGK * tem)) *\n",
      "/mnt/md5/data/morisset/insync/GoogleDrive_chris_morisset/Pro/PyNeb_devel/pyneb/core/pynebcore.py:1809: RuntimeWarning: invalid value encountered in multiply\n",
      "  coeff_matrix[row, col] = den_rav * q[col, row] + A[col, row]\n",
      "/mnt/md5/data/morisset/insync/GoogleDrive_chris_morisset/Pro/PyNeb_devel/pyneb/core/pynebcore.py:1812: RuntimeWarning: invalid value encountered in multiply\n",
      "  coeff_matrix[row, col] = den_rav * q[col, row]\n",
      "/mnt/md5/data/morisset/insync/GoogleDrive_chris_morisset/Pro/PyNeb_devel/pyneb/core/pynebcore.py:1814: RuntimeWarning: invalid value encountered in multiply\n",
      "  coeff_matrix[row, row] = -(den_rav * (sum_q_up[row] + sum_q_down[row]) + sum_A[row])\n",
      "/mnt/md5/data/morisset/insync/GoogleDrive_chris_morisset/Pro/PyNeb_devel/pyneb/core/pynebcore.py:3712: RuntimeWarning: divide by zero encountered in log10\n",
      "  logd = np.log10(deng)\n",
      "/mnt/md5/data/morisset/insync/GoogleDrive_chris_morisset/Pro/PyNeb_devel/pyneb/core/pynebcore.py:3730: RuntimeWarning: divide by zero encountered in true_divide\n",
      "  (1./temg, logd), method=method)\n",
      "/mnt/md5/data/morisset/insync/GoogleDrive_chris_morisset/Pro/PyNeb_devel/pyneb/core/pynebcore.py:1509: RuntimeWarning: invalid value encountered in multiply\n",
      "  resultArray[j][i] = CST.KCOLLRATE / tem ** 0.5 / stat_weight_j * Omegas[lev_j-1, lev_i-1]\n"
     ]
    }
   ],
   "source": [
    "#Create a dictionnary that olds all the atom objects\n",
    "atomDict = pn.getAtomDict(atom_list=all_atoms)\n",
    "ion_ab_dic = {}\n",
    "for line in obs.getSortedLines():\n",
    "    atom = atomDict[line.atom]\n",
    "    ion_ab_dic[line.label] = atom.getIonAbundance(line.corrIntens, T_O3, N_S2, to_eval=line.to_eval)"
   ]
  },
  {
   "cell_type": "code",
   "execution_count": 28,
   "id": "2a93959a-b82b-4fec-a29f-1ce45b13ffef",
   "metadata": {},
   "outputs": [
    {
     "data": {
      "text/plain": [
       "{'Ar3_7136A': array([2.18484551e-07, 3.06706347e-07, 2.29769668e-07, ...,\n",
       "        1.52966129e-07, 1.80568422e-07, 2.55118149e-07]),\n",
       " 'H1r_4861A': array([1., 1., 1., ..., 1., 1., 1.]),\n",
       " 'H1r_6563A': array([1.00039148, 0.99917671, 1.00021535, ..., 1.00050778, 1.00023101,\n",
       "        1.00048053]),\n",
       " 'N2_5755A': array([2.53370702e-06, 4.54018444e-06, 3.11521031e-06, ...,\n",
       "        2.15134065e-06, 1.74844463e-06, 3.41861580e-06]),\n",
       " 'N2_6548A': array([2.38109860e-06, 4.86240107e-06, 2.70216612e-06, ...,\n",
       "        1.82612169e-06, 2.02012162e-06, 2.65702392e-06]),\n",
       " 'N2_6584A': array([2.24101277e-06, 3.89545661e-06, 2.89089927e-06, ...,\n",
       "        1.86298786e-06, 2.28403299e-06, 2.75542151e-06]),\n",
       " 'Ne2_12.8m': array([5.70450070e-06, 6.13082950e-06, 4.88538761e-06, ...,\n",
       "        4.77481347e-06, 3.78295464e-06, 7.99187081e-06]),\n",
       " 'Ne3_15.6m': array([1.21802239e-05, 1.49720117e-05, 9.25125731e-06, ...,\n",
       "        1.02647384e-05, 8.55075529e-06, 1.63687705e-05]),\n",
       " 'Ne3_3869A': array([1.25983291e-05, 1.98005434e-05, 2.11754073e-05, ...,\n",
       "        1.14266972e-05, 1.26355007e-05, 1.54520876e-05]),\n",
       " 'Ne3_3968A': array([1.39588292e-05, 2.26144136e-05, 1.81806704e-05, ...,\n",
       "        1.32048328e-05, 1.38637121e-05, 1.76592457e-05]),\n",
       " 'O1_6300A': array([1.51222122e-06, 2.52358394e-06, 1.88930575e-06, ...,\n",
       "        1.27618203e-06, 1.25440187e-06, 1.76244478e-06]),\n",
       " 'O1_6364A': array([1.50395896e-06, 2.63149261e-06, 1.83756700e-06, ...,\n",
       "        1.07612934e-06, 1.26247314e-06, 1.55087135e-06]),\n",
       " 'O2_3726A': array([2.56525394e-05, 1.11296761e-04, 4.62121761e-05, ...,\n",
       "        1.90969772e-05, 3.81512160e-05, 2.32480569e-05]),\n",
       " 'O2_3729A': array([2.63452157e-05, 1.14284597e-04, 5.41034667e-05, ...,\n",
       "        1.50666352e-05, 3.28516716e-05, 1.74453793e-05]),\n",
       " 'O2_7319A+': array([2.39740544e-05, 3.68833079e-05, 3.42735641e-05, ...,\n",
       "        1.93278909e-05, 1.44286718e-05, 4.93417475e-05]),\n",
       " 'O2_7330A+': array([2.35693494e-05, 4.12704432e-05, 3.22178563e-05, ...,\n",
       "        1.84217600e-05, 1.76730802e-05, 5.04195201e-05]),\n",
       " 'O3_4363A': array([8.65509434e-05, 1.60311726e-04, 1.41960117e-04, ...,\n",
       "        7.05489289e-05, 8.03926951e-05, 1.15756600e-04]),\n",
       " 'O3_5007A': array([8.65922399e-05, 1.52425747e-04, 1.41884531e-04, ...,\n",
       "        7.09969679e-05, 8.06567357e-05, 1.17124911e-04]),\n",
       " 'S2_4069A': array([1.42060037e-07, 1.43045719e-07, 1.65100365e-07, ...,\n",
       "        1.48791393e-07, 1.36919118e-07, 2.41133404e-07]),\n",
       " 'S2_4076A': array([2.28418069e-07, 2.48054040e-07, 3.18368786e-07, ...,\n",
       "        2.39300961e-07, 2.10297848e-07, 3.26729302e-07]),\n",
       " 'S2_6716A': array([9.31533994e-08, 3.42990430e-07, 1.33389156e-07, ...,\n",
       "        6.28642289e-08, 1.17275375e-07, 7.39565867e-08]),\n",
       " 'S2_6731A': array([9.35789494e-08, 3.41328963e-07, 1.34083064e-07, ...,\n",
       "        6.28585540e-08, 1.17639521e-07, 7.40917189e-08]),\n",
       " 'S3_18.7m': array([6.73426320e-07, 1.68886998e-06, 6.84394890e-07, ...,\n",
       "        4.24482385e-07, 6.79892391e-07, 5.55464622e-07]),\n",
       " 'S3_6312A': array([7.02662937e-07, 1.20348039e-06, 7.89464991e-07, ...,\n",
       "        5.23545016e-07, 4.17202362e-07, 9.96927994e-07]),\n",
       " 'S4_10.5m': array([1.28648717e-07, 2.08903129e-07, 1.34896583e-07, ...,\n",
       "        7.97831362e-08, 1.13414820e-07, 1.30568031e-07])}"
      ]
     },
     "execution_count": 28,
     "metadata": {},
     "output_type": "execute_result"
    }
   ],
   "source": [
    "ion_ab_dic"
   ]
  },
  {
   "cell_type": "markdown",
   "id": "5c54cf2a-78e5-4b7c-bca6-2a051cc169f8",
   "metadata": {},
   "source": [
    "Define O/H = O$^+$/H$^+$ + O$^{++}$/H$^+$, where O$^+$ is the mean value of the ionic abundances obtained from the two [OII]3726, 29 lines. No ICF is used here."
   ]
  },
  {
   "cell_type": "code",
   "execution_count": 29,
   "id": "73ed344e-131c-4280-89ab-148729a217ee",
   "metadata": {},
   "outputs": [],
   "source": [
    "OH = ion_ab_dic['O3_5007A'] + 0.5*(ion_ab_dic['O2_3726A'] + ion_ab_dic['O2_3729A'])"
   ]
  },
  {
   "cell_type": "code",
   "execution_count": 30,
   "id": "df168da6-c7c7-4031-9231-f74a353f434f",
   "metadata": {},
   "outputs": [
    {
     "data": {
      "image/png": "[encoded data removed]",
      "text/plain": [
       "<Figure size 432x288 with 1 Axes>"
      ]
     },
     "metadata": {
      "needs_background": "light"
     },
     "output_type": "display_data"
    }
   ],
   "source": [
    "f, ax = plt.subplots()\n",
    "ax.hist(12 + np.log10(OH), bins = np.linspace(7.5, 9.0, 100));"
   ]
  },
  {
   "cell_type": "code",
   "execution_count": 31,
   "id": "6820f3ca-deac-4c11-ab5f-b28b39ddde8b",
   "metadata": {},
   "outputs": [
    {
     "name": "stdout",
     "output_type": "stream",
     "text": [
      "12 + log(OH) = 8.07 +/- 0.18\n"
     ]
    }
   ],
   "source": [
    "print(f'12 + log(OH) = {12+np.nanmedian(np.log10(OH)):.2f} +/- {np.nanstd(np.log10(OH)):.2f}')"
   ]
  }
 ],
 "metadata": {
  "kernelspec": {
   "display_name": "Python 3 (ipykernel)",
   "language": "python",
   "name": "python3"
  },
  "language_info": {
   "codemirror_mode": {
    "name": "ipython",
    "version": 3
   },
   "file_extension": ".py",
   "mimetype": "text/x-python",
   "name": "python",
   "nbconvert_exporter": "python",
   "pygments_lexer": "ipython3",
   "version": "3.9.12"
  }
 },
 "nbformat": 4,
 "nbformat_minor": 5
}
