{
 "cells": [
  {
   "cell_type": "markdown",
   "id": "4fb57ef8-2e90-4572-9373-7c6ef6b8f036",
   "metadata": {},
   "source": [
    "Import needed libraries"
   ]
  },
  {
   "cell_type": "code",
   "execution_count": 1,
   "id": "aeddc13a-1f2c-401c-9a43-20ed358ca368",
   "metadata": {},
   "outputs": [],
   "source": [
    "import numpy as np\n",
    "import matplotlib.pyplot as plt\n",
    "%matplotlib inline\n",
    "import pyneb as pn"
   ]
  },
  {
   "cell_type": "markdown",
   "id": "aefe16f7-d0c6-4d09-bf40-2f0d96492022",
   "metadata": {},
   "source": [
    "Read observation in the obs object"
   ]
  },
  {
   "cell_type": "code",
   "execution_count": 66,
   "id": "3603c893-993a-46d4-ac3e-bb035e6744ff",
   "metadata": {},
   "outputs": [],
   "source": [
    "obs = pn.Observation(obsFile='./observations1.dat', fileFormat='lines_in_rows', err_default=0.05)"
   ]
  },
  {
   "cell_type": "markdown",
   "id": "4bb43db3-1256-446a-b34e-44801f089163",
   "metadata": {},
   "source": [
    "Add 100 synthetic observations, based on the observed intensities and the errors on them (here default value is 5%)"
   ]
  },
  {
   "cell_type": "code",
   "execution_count": 67,
   "id": "1bff8784-d769-4507-b1b4-e9854321e5c1",
   "metadata": {},
   "outputs": [],
   "source": [
    "obs.addMonteCarloObs(N=100)"
   ]
  },
  {
   "cell_type": "markdown",
   "id": "680a6e5e-b8a1-4080-88e9-e81ed2f12350",
   "metadata": {},
   "source": [
    "Reset Hbeta to 100, it hase no error by definition"
   ]
  },
  {
   "cell_type": "code",
   "execution_count": 86,
   "id": "b9b9343f-c749-4007-80dc-f975134c719e",
   "metadata": {},
   "outputs": [],
   "source": [
    "l = obs.getLine(label='H1r_4861A')\n",
    "l.obsIntens = np.ones_like(l.obsIntens) * 100"
   ]
  },
  {
   "cell_type": "markdown",
   "id": "940d8a38-1e77-46af-896a-09591c2efe2d",
   "metadata": {},
   "source": [
    "Correct observations from reddening"
   ]
  },
  {
   "cell_type": "code",
   "execution_count": 79,
   "id": "f00e952a-692f-470b-a2e2-c623a03e21ee",
   "metadata": {},
   "outputs": [],
   "source": [
    "obs.def_EBV(label1='H1r_6563A', label2='H1r_4861A', r_theo=2.85)"
   ]
  },
  {
   "cell_type": "code",
   "execution_count": 80,
   "id": "59c99a90-98bf-4644-8db8-986706d648eb",
   "metadata": {},
   "outputs": [],
   "source": [
    "obs.correctData(normWave=4861.)"
   ]
  },
  {
   "cell_type": "markdown",
   "id": "2d56ae95-d631-4103-a5c2-1fd2e11f07a4",
   "metadata": {},
   "source": [
    "Have a look at the line intensities: 101 values for each one (the first value is the original one)."
   ]
  },
  {
   "cell_type": "code",
   "execution_count": 81,
   "id": "448f76d8-7644-4be6-b087-55bbb77ddbee",
   "metadata": {},
   "outputs": [
    {
     "name": "stdout",
     "output_type": "stream",
     "text": [
      "S4_10.5m      4.076    3.461    3.696    4.848    3.902    3.770    3.921    3.724    5.926    4.346    4.644    6.255    4.048    4.020    4.119    5.110    5.022    4.920    3.671    5.407    4.444    4.160    4.625    4.213    4.994    4.129    3.853    4.196    4.382    4.008    4.447    3.697    4.016    5.960    2.793    4.093    3.402    3.789    3.091    3.698    3.401    5.274    4.347    5.124    3.986    3.840    4.381    2.750    4.608    4.420    3.769    3.611    4.375    4.387    4.814    3.424    3.910    3.702    3.531    3.995    4.711    3.889    3.725    3.077    4.030    4.838    4.733    3.502    4.104    4.200    4.650    3.526    4.767    4.368    3.548    4.400    3.645    4.390    3.371    3.996    3.308    4.642    3.655    3.059    4.963    3.270    4.356    3.978    3.458    4.184    3.927    4.634    4.614    5.218    3.392    4.585    3.627    2.839    4.449    3.676    3.164\n",
      "Ne2_12.8m     4.826    4.157    4.371    5.765    4.604    4.290    4.608    4.685    7.843    5.190    5.652    7.597    5.088    4.748    4.820    5.550    6.048    5.886    4.673    6.781    5.093    5.039    4.569    5.305    5.992    4.756    4.352    4.795    5.241    4.439    5.232    4.756    4.697    7.026    3.639    5.161    4.015    4.106    3.414    4.433    4.549    6.453    4.956    5.904    4.517    4.659    5.226    3.663    5.315    5.312    4.361    4.977    5.432    5.144    5.800    4.257    4.452    4.908    4.693    5.117    4.916    4.605    4.513    3.977    5.039    6.494    5.599    4.292    4.792    4.670    5.242    4.290    5.764    5.128    4.046    5.126    4.456    5.103    4.293    4.635    3.740    6.302    4.951    3.755    5.798    4.048    5.009    4.420    4.099    4.420    4.624    5.968    5.882    6.355    3.891    5.798    4.159    3.526    5.401    4.767    3.988\n",
      "Ne3_15.6m    19.803   19.721   17.738   21.410   18.869   16.791   21.258   17.758   29.072   22.087   21.806   30.597   20.200   18.934   18.496   24.091   25.323   23.802   16.580   25.807   21.316   19.055   21.717   21.890   24.767   18.537   19.033   20.982   22.114   18.196   24.470   19.771   18.955   30.745   13.841   21.324   16.675   16.132   14.694   17.544   17.239   26.429   20.783   23.154   19.838   19.597   20.741   16.343   24.110   20.416   18.293   19.984   21.944   22.279   26.279   17.359   20.124   20.068   17.386   20.600   21.031   17.909   18.603   14.771   16.778   23.853   22.639   16.576   17.789   22.210   20.798   18.206   21.242   22.992   16.408   23.133   17.438   21.880   17.782   19.934   15.274   24.883   20.943   14.863   22.825   16.139   18.916   20.631   17.737   17.894   19.612   24.428   24.493   24.937   15.099   23.160   17.255   15.469   22.191   19.169   15.737\n",
      "S3_18.7m      5.802    5.381    4.891    7.315    5.499    5.526    5.998    5.355    8.481    6.344    6.508    8.936    6.023    5.803    6.012    7.712    7.627    6.603    5.492    7.042    6.882    6.288    5.713    6.421    7.473    5.973    5.561    6.335    7.023    5.053    6.659    5.642    6.097    8.833    4.019    6.145    5.085    4.961    4.781    5.707    4.985    8.271    5.802    7.130    5.454    5.896    6.063    4.528    6.463    5.982    5.218    5.796    6.988    6.447    7.155    5.201    5.705    5.656    4.653    6.290    6.161    5.693    6.176    4.804    6.015    6.594    6.783    4.871    5.866    6.254    6.049    4.904    6.191    6.917    4.763    7.140    5.133    6.410    4.773    5.747    4.409    7.082    6.065    4.172    7.368    4.410    5.806    5.534    5.471    5.449    5.861    7.230    6.451    7.316    4.842    6.745    5.153    4.131    6.654    5.254    4.434\n",
      "O2_3726A     46.576   47.208   50.980   43.156   46.239   45.624   41.949   48.277   40.330   49.127   43.456   42.158   47.857   49.505   45.620   43.689   42.319   46.931   47.469   41.372   40.369   49.827   46.395   46.758   44.817   47.806   49.237   43.472   43.074   44.361   47.911   47.937   45.627   36.229   52.326   43.899   45.677   47.492   52.651   45.996   49.163   40.741   46.454   40.893   45.252   46.042   44.565   49.028   46.847   46.197   48.797   49.059   42.742   42.208   46.435   47.689   44.941   48.013   46.722   44.109   47.060   47.851   40.200   52.494   47.375   41.601   46.412   48.276   45.570   42.152   44.015   47.651   44.674   47.911   46.101   47.782   50.632   44.788   47.568   43.348   55.141   45.819   45.117   51.749   45.408   48.379   44.524   50.066   50.534   49.824   47.225   46.361   41.244   44.914   46.441   43.948   46.845   49.417   45.867   47.900   47.342\n",
      "O2_3729A     21.812   22.059   22.794   20.547   22.410   22.361   22.118   21.985   18.985   21.654   20.580   19.676   19.911   21.041   21.461   21.452   20.399   20.871   21.691   20.856   20.030   19.883   22.028   22.230   19.077   22.425   24.002   20.356   22.408   23.156   20.937   22.542   22.956   18.208   25.408   22.325   22.485   23.256   20.371   24.426   24.316   20.781   20.203   19.675   22.494   21.645   21.212   23.109   19.835   20.859   23.500   21.868   21.332   21.723   21.915   23.765   22.284   23.443   25.282   19.020   18.988   22.391   24.130   22.198   20.928   20.903   22.344   24.009   22.389   22.486   22.032   24.820   20.681   20.889   22.886   21.011   22.921   20.882   22.840   22.200   22.858   20.934   22.616   23.802   21.664   23.098   20.967   21.194   23.222   22.713   20.879   19.670   20.217   18.497   23.201   19.978   24.437   22.835   19.221   23.574   21.639\n",
      "Ne3_3869A    21.722   24.079   22.499   20.191   21.598   22.383   21.778   22.703   21.260   21.604   20.486   19.665   21.448   20.448   21.842   21.074   20.139   21.869   24.009   20.995   21.272   21.943   22.193   21.641   20.052   22.195   22.484   22.652   22.753   20.465   20.342   20.626   23.336   21.010   22.988   20.110   21.261   23.213   22.996   21.712   23.101   20.246   21.691   18.661   21.924   20.719   20.552   22.998   18.571   22.075   21.557   20.085   17.610   23.246   19.356   22.264   20.876   22.133   20.993   21.397   21.257   20.080   20.017   23.337   21.449   19.999   21.697   22.078   22.986   19.455   21.719   21.870   19.704   21.140   23.075   19.462   21.752   20.782   21.571   21.996   23.768   22.240   20.570   22.092   20.602   23.299   21.821   22.418   22.459   21.280   21.435   21.302   21.113   20.207   22.658   19.987   21.264   24.018   18.811   21.276   22.883\n",
      "Ne3_3968A     7.255    7.431    7.222    6.510    7.331    7.192    7.058    6.569    6.798    6.977    6.927    7.092    7.554    7.521    7.292    6.966    6.579    7.443    7.099    7.102    7.798    7.214    6.704    6.413    6.956    7.071    8.154    8.329    7.826    7.658    7.167    7.589    7.258    6.416    7.456    7.236    7.330    6.745    8.026    7.257    7.393    6.593    7.455    7.155    7.104    7.590    7.295    8.048    7.151    7.442    7.836    7.033    7.441    6.877    6.703    7.219    6.898    7.489    8.226    6.607    7.997    7.187    7.367    8.146    7.679    8.105    7.146    7.484    7.103    6.680    7.304    7.864    7.290    7.322    7.342    7.351    7.427    6.670    7.673    7.755    7.909    6.825    7.474    8.039    6.884    7.401    7.083    6.566    8.001    6.974    7.407    6.943    6.767    6.503    7.769    6.982    6.844    8.138    8.034    6.915    6.983\n",
      "S2_4069A      0.950    0.921    0.970    0.945    0.983    0.956    0.983    1.009    0.833    0.968    0.869    0.823    0.880    0.902    1.004    0.921    0.918    0.980    1.084    0.824    0.897    0.935    0.923    0.959    0.921    1.041    0.975    0.965    0.949    0.958    0.894    0.988    0.932    0.947    1.001    0.950    0.982    0.995    0.996    1.044    1.001    0.929    1.032    0.963    0.970    0.904    0.898    0.977    0.891    0.938    1.022    0.941    0.903    0.901    0.960    1.057    0.931    0.916    1.045    0.920    0.993    0.970    1.023    0.970    0.870    0.926    0.899    1.000    0.859    0.922    0.931    0.923    0.904    0.845    0.971    0.936    0.979    0.882    1.018    0.981    1.009    0.864    0.942    0.949    0.967    0.951    0.876    0.889    1.073    0.988    1.008    0.880    0.969    0.964    0.929    0.876    0.985    1.090    0.857    0.955    1.008\n",
      "S2_4076A      0.503    0.506    0.490    0.490    0.467    0.487    0.531    0.533    0.507    0.454    0.531    0.447    0.509    0.502    0.517    0.497    0.450    0.529    0.500    0.494    0.492    0.491    0.529    0.470    0.502    0.504    0.470    0.485    0.438    0.504    0.465    0.540    0.504    0.487    0.552    0.496    0.514    0.522    0.541    0.536    0.503    0.505    0.499    0.516    0.503    0.489    0.505    0.518    0.470    0.508    0.526    0.504    0.503    0.506    0.498    0.541    0.438    0.503    0.493    0.467    0.482    0.544    0.486    0.543    0.549    0.481    0.427    0.505    0.492    0.466    0.484    0.495    0.497    0.488    0.444    0.476    0.487    0.499    0.535    0.481    0.603    0.472    0.431    0.529    0.488    0.488    0.497    0.490    0.515    0.492    0.543    0.517    0.493    0.446    0.478    0.488    0.486    0.531    0.509    0.489    0.515\n",
      "O3_4363A      4.687    4.733    4.649    4.124    4.773    4.799    4.748    4.311    4.311    4.784    4.587    4.018    4.851    4.481    4.422    4.834    4.185    4.857    4.899    4.339    4.688    4.988    4.553    4.527    4.496    4.963    4.586    4.624    4.111    4.727    5.223    4.266    4.364    4.778    4.444    4.733    4.508    4.141    4.844    4.885    5.019    4.258    4.852    4.641    4.671    4.317    4.462    4.784    4.447    4.579    4.612    4.564    4.737    5.240    4.530    4.569    4.782    4.701    4.537    4.883    4.752    4.766    4.735    4.728    4.669    4.736    4.732    4.907    4.543    4.477    4.739    4.949    4.674    4.617    4.729    4.491    4.785    4.367    3.994    4.660    5.272    4.046    4.658    4.809    4.389    5.010    4.961    4.783    4.497    5.060    5.110    4.456    4.593    4.453    5.146    4.670    4.148    4.570    4.588    4.674    4.923\n",
      "H1r_4861A   100.000  100.000  100.000  100.000  100.000  100.000  100.000  100.000  100.000  100.000  100.000  100.000  100.000  100.000  100.000  100.000  100.000  100.000  100.000  100.000  100.000  100.000  100.000  100.000  100.000  100.000  100.000  100.000  100.000  100.000  100.000  100.000  100.000  100.000  100.000  100.000  100.000  100.000  100.000  100.000  100.000  100.000  100.000  100.000  100.000  100.000  100.000  100.000  100.000  100.000  100.000  100.000  100.000  100.000  100.000  100.000  100.000  100.000  100.000  100.000  100.000  100.000  100.000  100.000  100.000  100.000  100.000  100.000  100.000  100.000  100.000  100.000  100.000  100.000  100.000  100.000  100.000  100.000  100.000  100.000  100.000  100.000  100.000  100.000  100.000  100.000  100.000  100.000  100.000  100.000  100.000  100.000  100.000  100.000  100.000  100.000  100.000  100.000  100.000  100.000  100.000\n",
      "O3_5007A    425.599  407.376  383.826  460.507  454.325  427.078  435.705  418.565  452.327  421.634  414.345  468.421  461.250  450.869  443.041  432.193  406.799  458.690  425.770  416.607  431.962  410.975  459.280  428.055  423.941  423.755  435.809  401.678  441.268  437.053  403.096  434.739  426.212  443.155  442.451  419.616  427.823  420.875  418.030  441.379  448.411  406.652  448.820  443.721  466.602  432.241  429.354  426.535  409.637  448.359  428.020  421.078  425.594  413.474  413.333  446.873  406.119  413.452  411.119  449.423  439.993  450.789  430.277  416.814  413.429  428.117  406.446  395.582  423.902  431.411  432.051  428.227  406.027  413.623  426.559  457.248  420.686  443.924  442.712  422.667  439.251  455.014  430.398  409.991  446.181  427.440  392.074  409.342  445.509  456.829  417.006  405.269  437.176  393.039  431.231  405.697  414.075  445.411  441.666  421.983  406.657\n",
      "N2_5755A      0.454    0.421    0.417    0.460    0.435    0.451    0.462    0.444    0.484    0.460    0.450    0.524    0.472    0.488    0.421    0.473    0.538    0.469    0.457    0.501    0.495    0.445    0.454    0.456    0.465    0.448    0.467    0.438    0.467    0.413    0.448    0.455    0.437    0.491    0.457    0.456    0.455    0.451    0.413    0.443    0.442    0.480    0.480    0.447    0.453    0.421    0.445    0.405    0.450    0.484    0.433    0.488    0.471    0.473    0.504    0.402    0.478    0.468    0.384    0.449    0.471    0.454    0.453    0.489    0.468    0.482    0.482    0.476    0.465    0.471    0.469    0.451    0.452    0.458    0.433    0.427    0.435    0.441    0.418    0.423    0.471    0.480    0.439    0.387    0.501    0.440    0.471    0.441    0.498    0.423    0.432    0.486    0.486    0.544    0.408    0.466    0.422    0.403    0.438    0.409    0.404\n",
      "S3_6312A      0.641    0.639    0.614    0.666    0.639    0.671    0.653    0.647    0.712    0.612    0.645    0.704    0.656    0.655    0.585    0.711    0.771    0.685    0.560    0.710    0.704    0.605    0.563    0.700    0.708    0.656    0.601    0.643    0.687    0.620    0.696    0.706    0.675    0.699    0.595    0.695    0.618    0.686    0.528    0.581    0.658    0.645    0.672    0.676    0.600    0.603    0.675    0.631    0.696    0.640    0.607    0.598    0.677    0.687    0.611    0.562    0.630    0.597    0.625    0.662    0.661    0.642    0.614    0.587    0.629    0.603    0.669    0.588    0.671    0.675    0.650    0.593    0.701    0.584    0.633    0.667    0.611    0.635    0.644    0.644    0.580    0.729    0.645    0.624    0.676    0.617    0.560    0.615    0.627    0.578    0.633    0.657    0.605    0.674    0.605    0.655    0.604    0.607    0.686    0.588    0.590\n",
      "O1_6300A      1.428    1.355    1.366    1.572    1.234    1.377    1.486    1.407    1.577    1.515    1.376    1.669    1.405    1.361    1.404    1.480    1.599    1.675    1.368    1.597    1.512    1.357    1.346    1.492    1.551    1.398    1.306    1.425    1.615    1.497    1.504    1.548    1.443    1.674    1.245    1.474    1.430    1.400    1.255    1.323    1.270    1.624    1.427    1.507    1.455    1.449    1.495    1.267    1.580    1.617    1.382    1.445    1.378    1.425    1.546    1.269    1.539    1.383    1.285    1.362    1.391    1.279    1.414    1.380    1.357    1.544    1.538    1.399    1.470    1.409    1.500    1.514    1.529    1.366    1.379    1.452    1.400    1.398    1.264    1.385    1.279    1.658    1.508    1.319    1.363    1.495    1.377    1.429    1.339    1.387    1.296    1.418    1.414    1.562    1.345    1.541    1.266    1.348    1.615    1.318    1.399\n",
      "O1_6364A      0.454    0.449    0.410    0.502    0.428    0.416    0.482    0.454    0.497    0.461    0.472    0.506    0.440    0.450    0.505    0.519    0.544    0.486    0.441    0.544    0.475    0.489    0.465    0.470    0.504    0.440    0.458    0.466    0.498    0.477    0.459    0.414    0.415    0.531    0.413    0.463    0.388    0.432    0.400    0.457    0.447    0.525    0.477    0.470    0.418    0.472    0.495    0.410    0.539    0.467    0.457    0.492    0.491    0.453    0.469    0.414    0.462    0.504    0.428    0.451    0.452    0.453    0.471    0.420    0.448    0.455    0.508    0.435    0.410    0.469    0.479    0.469    0.513    0.432    0.394    0.512    0.470    0.476    0.440    0.457    0.412    0.499    0.462    0.430    0.468    0.453    0.481    0.434    0.413    0.487    0.445    0.500    0.458    0.510    0.437    0.475    0.416    0.412    0.483    0.437    0.428\n",
      "N2_6548A      5.657    5.719    5.555    6.067    5.818    5.110    5.488    5.982    6.719    5.398    6.722    6.720    6.167    5.854    5.529    6.092    6.176    5.755    5.380    6.460    5.936    5.616    5.909    5.341    6.512    5.567    5.742    5.514    5.734    5.155    5.926    5.678    5.600    6.669    4.894    6.077    5.358    5.847    5.100    5.775    5.291    6.322    5.652    5.917    4.982    5.314    5.851    5.090    5.777    5.469    5.680    5.452    5.590    5.581    5.887    5.481    5.647    6.061    5.293    5.604    6.023    5.435    6.233    5.157    5.815    5.618    5.515    5.313    5.120    5.641    6.459    5.458    5.651    5.637    5.611    5.787    5.517    5.972    5.387    5.604    5.547    6.033    5.460    5.203    6.460    5.520    5.960    5.638    5.583    5.471    5.456    5.755    5.494    6.367    5.304    5.845    5.294    5.125    6.175    5.045    5.687\n",
      "H1r_6563A   285.000  285.000  285.000  285.000  285.000  285.000  285.000  285.000  285.000  285.000  285.000  285.000  285.000  285.000  285.000  285.000  285.000  285.000  285.000  285.000  285.000  285.000  285.000  285.000  285.000  285.000  285.000  285.000  285.000  285.000  285.000  285.000  285.000  285.000  285.000  285.000  285.000  285.000  285.000  285.000  285.000  285.000  285.000  285.000  285.000  285.000  285.000  285.000  285.000  285.000  285.000  285.000  285.000  285.000  285.000  285.000  285.000  285.000  285.000  285.000  285.000  285.000  285.000  285.000  285.000  285.000  285.000  285.000  285.000  285.000  285.000  285.000  285.000  285.000  285.000  285.000  285.000  285.000  285.000  285.000  285.000  285.000  285.000  285.000  285.000  285.000  285.000  285.000  285.000  285.000  285.000  285.000  285.000  285.000  285.000  285.000  285.000  285.000  285.000  285.000  285.000\n",
      "N2_6584A     15.668   14.241   14.089   17.412   14.973   16.077   14.969   16.004   16.688   15.957   17.109   19.549   16.864   15.958   14.640   16.603   17.703   16.548   16.105   17.796   15.190   15.740   15.501   14.832   17.339   14.253   14.728   16.701   14.878   15.237   16.877   14.810   16.589   15.655   13.413   14.864   16.039   15.310   13.728   15.701   15.743   16.590   14.984   16.371   15.484   14.722   17.606   14.732   16.402   16.320   16.089   15.118   16.499   16.665   15.492   14.926   15.040   15.472   12.934   16.032   16.105   15.331   14.944   15.022   14.574   15.389   16.849   14.625   16.546   17.513   17.982   16.703   16.749   15.198   14.167   15.360   15.112   15.267   17.388   15.469   12.930   15.419   16.598   14.780   16.246   14.235   15.629   16.242   15.813   15.173   15.657   18.962   16.522   16.954   14.654   18.130   14.124   14.184   15.870   15.277   14.702\n",
      "S2_6716A      0.995    0.966    1.015    1.127    1.020    0.919    0.970    1.067    1.043    0.981    1.106    1.153    1.007    1.098    0.852    1.035    1.223    1.128    0.944    1.207    1.056    0.847    0.981    1.027    1.092    0.937    1.037    1.100    1.076    0.972    0.925    0.933    1.059    1.169    0.879    1.063    0.943    0.879    0.906    0.930    0.929    1.240    1.025    1.064    0.900    0.998    1.086    0.839    1.108    1.088    0.967    0.945    1.064    1.053    1.095    0.993    1.018    1.006    0.905    1.035    0.946    0.984    0.987    0.925    1.054    1.020    1.042    0.880    0.984    1.012    0.951    0.986    1.063    0.975    0.878    1.050    0.996    1.037    0.978    1.004    0.851    1.165    0.974    0.894    1.036    0.897    0.922    0.992    0.957    0.903    1.006    1.059    1.044    1.191    0.884    1.020    0.910    0.771    0.996    1.035    0.951\n",
      "S2_6731A      1.777    1.746    1.787    1.954    1.827    1.801    1.821    1.791    2.130    1.864    1.980    2.151    1.687    1.696    1.707    2.060    2.016    1.794    1.943    1.889    1.837    1.617    1.701    1.799    2.085    1.798    1.866    1.806    1.704    1.780    1.921    1.818    1.688    2.047    1.509    1.827    1.708    1.721    1.505    1.801    1.641    1.925    1.778    1.937    1.776    1.682    1.973    1.685    1.841    1.801    1.872    1.817    1.791    1.893    1.976    1.557    1.845    1.715    1.668    1.737    1.917    1.709    1.857    1.585    1.731    2.097    1.977    1.634    1.733    1.630    1.937    1.649    1.840    1.760    1.740    1.636    1.753    2.005    1.859    1.832    1.722    1.985    1.870    1.617    1.708    1.669    1.646    1.851    1.676    1.800    1.785    1.955    1.884    2.071    1.675    1.899    1.669    1.612    1.934    1.661    1.707\n",
      "Ar3_7136A     3.882    3.250    3.969    4.189    4.043    3.802    4.293    3.593    5.049    3.980    4.092    4.645    4.154    3.869    4.072    4.196    4.645    3.918    3.841    4.110    4.215    3.874    4.087    4.193    4.388    3.879    3.972    4.085    3.508    3.709    4.191    3.617    3.860    4.625    3.217    4.138    3.188    3.511    3.528    3.848    3.613    4.335    4.001    4.538    3.854    3.860    4.126    3.523    4.467    3.516    3.877    4.064    3.808    4.152    4.251    4.091    3.907    3.740    3.575    3.922    4.073    3.649    3.903    3.907    3.879    3.894    4.368    3.737    4.033    4.106    4.310    3.792    3.949    4.036    3.472    3.939    3.608    4.251    3.765    4.156    3.393    4.492    4.057    3.260    4.176    3.713    3.869    3.750    3.658    3.780    3.981    4.120    3.987    4.066    3.683    3.922    3.851    3.639    3.917    3.683    3.755\n",
      "O2_7319A+     5.106    4.884    4.999    5.563    5.110    5.080    5.090    5.268    6.420    5.053    4.933    6.515    4.979    5.309    5.037    5.832    6.049    5.328    4.917    6.177    5.617    5.452    5.461    5.440    5.839    5.425    4.751    5.235    5.196    4.896    5.733    5.144    5.016    6.019    4.317    5.120    4.600    4.755    5.017    4.816    4.841    5.827    5.504    5.520    4.927    4.780    5.257    4.284    5.679    5.538    4.570    5.254    5.348    5.277    5.814    4.849    4.824    5.049    4.665    5.637    4.753    5.245    4.946    4.836    5.187    5.441    5.927    4.749    5.469    5.302    5.432    5.109    5.605    5.444    4.942    5.168    4.979    5.013    4.846    5.107    4.401    6.048    5.228    4.274    5.573    4.620    5.147    5.219    4.947    5.140    4.645    6.012    4.936    5.932    4.836    5.154    4.926    4.275    5.186    5.046    4.543\n",
      "O2_7330A+     4.034    3.833    3.845    4.288    3.858    4.024    3.753    4.040    5.306    3.969    4.081    5.254    3.891    4.196    4.102    4.303    4.895    4.902    3.892    4.638    4.391    4.280    3.647    4.763    4.587    4.078    3.815    4.314    4.272    3.839    4.554    4.104    3.926    4.970    3.328    4.158    3.607    4.004    3.548    3.815    3.659    4.242    3.793    4.449    3.857    4.012    4.182    3.977    4.281    4.197    3.795    3.906    4.403    4.239    4.595    3.640    3.878    4.105    3.658    4.158    3.760    4.007    4.228    3.980    4.318    4.595    4.074    3.854    4.179    3.996    4.292    3.833    4.119    4.381    3.813    4.227    3.767    4.354    3.903    4.192    3.789    4.147    4.290    3.316    4.428    3.690    3.558    4.103    3.664    3.826    3.698    4.376    4.399    4.259    3.821    4.547    3.955    3.179    4.451    3.554    3.898\n"
     ]
    }
   ],
   "source": [
    "obs.printIntens()"
   ]
  },
  {
   "cell_type": "markdown",
   "id": "46c5287d-5167-4b6c-b901-83a70fabcc70",
   "metadata": {},
   "source": [
    "Plot the histogram of [OIII]/H$\\beta$"
   ]
  },
  {
   "cell_type": "code",
   "execution_count": 39,
   "id": "84f2d209-2627-4de8-9043-326276b79f10",
   "metadata": {},
   "outputs": [
    {
     "data": {
      "image/png": "[encoded data removed]",
      "text/plain": [
       "<Figure size 432x288 with 1 Axes>"
      ]
     },
     "metadata": {
      "needs_background": "light"
     },
     "output_type": "display_data"
    }
   ],
   "source": [
    "f, ax = plt.subplots()\n",
    "ax.hist(obs.getIntens()['O3_5007A']/obs.getIntens()['H1r_4861A'], bins=20);"
   ]
  },
  {
   "cell_type": "markdown",
   "id": "d8178ea9-3444-4b7b-af38-167a36ae116d",
   "metadata": {},
   "source": [
    "Instantiate the diag object to compute the diagnostics"
   ]
  },
  {
   "cell_type": "code",
   "execution_count": 9,
   "id": "93cecbb3-2887-46fb-bb99-40e644a53933",
   "metadata": {},
   "outputs": [],
   "source": [
    "diag = pn.Diagnostics()"
   ]
  },
  {
   "cell_type": "markdown",
   "id": "252b2f0e-316c-4a44-b24b-d3ab6f968406",
   "metadata": {},
   "source": [
    "Consider all the diagnostics available given the observed lines"
   ]
  },
  {
   "cell_type": "code",
   "execution_count": 10,
   "id": "db0a6122-c151-4478-b188-af5c3e71e4ee",
   "metadata": {},
   "outputs": [],
   "source": [
    "diag.addDiagsFromObs(obs)"
   ]
  },
  {
   "cell_type": "markdown",
   "id": "5731a77b-560a-4d3f-8ec5-5bc84b8ab839",
   "metadata": {},
   "source": [
    "Have a look at the diagnostics"
   ]
  },
  {
   "cell_type": "code",
   "execution_count": 12,
   "id": "f2dc8ec3-81e9-4836-a738-1c572ddea32d",
   "metadata": {},
   "outputs": [
    {
     "data": {
      "text/plain": [
       "{'[NII] 5755/6548': ('N2', 'L(5755)/L(6548)', 'RMS([E(6548), E(5755)])'),\n",
       " '[NII] 5755/6584': ('N2', 'L(5755)/L(6584)', 'RMS([E(6584), E(5755)])'),\n",
       " '[NII] 5755/6584+': ('N2',\n",
       "  'L(5755)/(L(6548)+L(6584))',\n",
       "  'RMS([E(6548)*L(6548)/(L(6548)+L(6584)), E(6584)*L(6584)/(L(6584)+L(6548)), E(5755)])'),\n",
       " '[OII] 3726/3729': ('O2', 'L(3726)/L(3729)', 'RMS([E(3729), E(3726)])'),\n",
       " '[OII] 3727+/7325+': ('O2',\n",
       "  '(L(3726)+L(3729))/(B(\"7319A+\")+B(\"7330A+\"))',\n",
       "  'RMS([E(3726)*L(3726)/(L(3726)+L(3729)), E(3729)*L(3729)/(L(3726)+L(3729)),BE(\"7319A+\")*B(\"7319A+\")/(B(\"7319A+\")+B(\"7330A+\")),BE(\"7330A+\")*B(\"7330A+\")/(B(\"7319A+\")+B(\"7330A+\"))])'),\n",
       " '[OIII] 4363/5007': ('O3', 'L(4363)/L(5007)', 'RMS([E(5007), E(4363)])'),\n",
       " '[SII] 6731/6716': ('S2', 'L(6731)/L(6716)', 'RMS([E(6716), E(6731)])'),\n",
       " '[SII] 4069/4076': ('S2', 'L(4069)/L(4076)', 'RMS([E(4069), E(4076)])'),\n",
       " '[SII] 4072+/6720+': ('S2',\n",
       "  '(L(4069)+L(4076))/(L(6716)+L(6731))',\n",
       "  'RMS([E(6716)*L(6716)/(L(6716)+L(6731)), E(6731)*L(6731)/(L(6716)+L(6731)), E(4069)*L(4069)/(L(4069)+L(4076)), E(4076)*L(4076)/(L(4069)+L(4076))])'),\n",
       " '[SIII] 6312/18.7m': ('S3', 'L(6312)/L(187000)', 'RMS([E(187000), E(6312)])'),\n",
       " '[NeIII] 3869/15.6m': ('Ne3',\n",
       "  'L(3869)/L(156000)',\n",
       "  'RMS([E(156000), E(3869)])'),\n",
       " '[NeIII] 3930+/15.6m': ('Ne3',\n",
       "  '(L(3869)+L(3968))/L(156000)',\n",
       "  'RMS([E(156000), E(3869)*L(3869)/(L(3869)+L(3968)), E(3968)*L(3968)/(L(3869)+L(3968))])')}"
      ]
     },
     "execution_count": 12,
     "metadata": {},
     "output_type": "execute_result"
    }
   ],
   "source": [
    "diag.diags"
   ]
  },
  {
   "cell_type": "markdown",
   "id": "29b7afc7-7edb-4d1c-9bb7-fd6652c761d1",
   "metadata": {},
   "source": [
    "Get a list of all the atoms string involved in the observations"
   ]
  },
  {
   "cell_type": "code",
   "execution_count": 31,
   "id": "5729c4d7-3710-4688-aaf4-92e20c2a638b",
   "metadata": {},
   "outputs": [],
   "source": [
    "all_atoms = obs.getUniqueAtoms()"
   ]
  },
  {
   "cell_type": "code",
   "execution_count": 32,
   "id": "2897fdad-7144-42e1-968a-7de0029a269c",
   "metadata": {},
   "outputs": [
    {
     "data": {
      "text/plain": [
       "array(['Ar3', 'H1r', 'N2', 'Ne2', 'Ne3', 'O1', 'O2', 'O3', 'S2', 'S3',\n",
       "       'S4'], dtype='<U3')"
      ]
     },
     "execution_count": 32,
     "metadata": {},
     "output_type": "execute_result"
    }
   ],
   "source": [
    "all_atoms"
   ]
  },
  {
   "cell_type": "markdown",
   "id": "882a7925-7d4a-47cb-af04-2901097133db",
   "metadata": {},
   "source": [
    "Creat a dictionnary of all the emisGrids that are doable from the atoms previously defined."
   ]
  },
  {
   "cell_type": "code",
   "execution_count": 33,
   "id": "49cac842-612c-464c-a811-5df92186aa96",
   "metadata": {},
   "outputs": [
    {
     "name": "stdout",
     "output_type": "stream",
     "text": [
      "warng getEmisGridDict: Emission map not found: ./pypics//emis_H1r.pypic\n",
      "warng _ManageAtomicData: atom data not available for H1\n",
      "warng _ManageAtomicData: coll data not available for H1\n",
      "warng getEmisGridDict: No H1r EmisGrid\n"
     ]
    }
   ],
   "source": [
    "emisDict = pn.getEmisGridDict(atom_list=all_atoms)"
   ]
  },
  {
   "cell_type": "code",
   "execution_count": 34,
   "id": "80db49aa-eba5-454f-8ea8-2696fab0a10d",
   "metadata": {},
   "outputs": [
    {
     "data": {
      "text/plain": [
       "{'Ar3': <pyneb.core.emisGrid.EmisGrid at 0x7f368b803370>,\n",
       " 'N2': <pyneb.core.emisGrid.EmisGrid at 0x7f368b803880>,\n",
       " 'Ne2': <pyneb.core.emisGrid.EmisGrid at 0x7f368b80ee50>,\n",
       " 'Ne3': <pyneb.core.emisGrid.EmisGrid at 0x7f368c2f8af0>,\n",
       " 'O1': <pyneb.core.emisGrid.EmisGrid at 0x7f368ceb3df0>,\n",
       " 'O2': <pyneb.core.emisGrid.EmisGrid at 0x7f368b2e3370>,\n",
       " 'O3': <pyneb.core.emisGrid.EmisGrid at 0x7f368b2e3a60>,\n",
       " 'S2': <pyneb.core.emisGrid.EmisGrid at 0x7f368b193b50>,\n",
       " 'S3': <pyneb.core.emisGrid.EmisGrid at 0x7f368b2e3a00>,\n",
       " 'S4': <pyneb.core.emisGrid.EmisGrid at 0x7f368b2e3550>}"
      ]
     },
     "execution_count": 34,
     "metadata": {},
     "output_type": "execute_result"
    }
   ],
   "source": [
    "emisDict"
   ]
  },
  {
   "cell_type": "markdown",
   "id": "c85f341c-7565-4d3d-ab29-d4dce36f74b1",
   "metadata": {},
   "source": [
    "Plot the diagnostic diagram from the previously defined dictionnary. Only the 1rst value of the observations, the original one."
   ]
  },
  {
   "cell_type": "code",
   "execution_count": 30,
   "id": "8207083a-07e2-4fcb-ba71-20183ad7b17e",
   "metadata": {},
   "outputs": [
    {
     "name": "stderr",
     "output_type": "stream",
     "text": [
      "/mnt/md5/data/morisset/insync/GoogleDrive_chris_morisset/Pro/PyNeb_devel/pyneb/core/diags.py:636: UserWarning: No contour levels were found within the data range.\n",
      "  CS = ax.contour(X, Y, diag_map, levels=[diag_value], colors=col, linestyles=style)\n"
     ]
    },
    {
     "data": {
      "image/png": "[encoded data removed]",
      "text/plain": [
       "<Figure size 432x288 with 1 Axes>"
      ]
     },
     "metadata": {
      "needs_background": "light"
     },
     "output_type": "display_data"
    }
   ],
   "source": [
    "diag.plot(emis_grids=emisDict, obs=obs, i_obs=0)"
   ]
  },
  {
   "cell_type": "markdown",
   "id": "8dd60815-8a9f-4987-91b0-ccae66bc7447",
   "metadata": {},
   "source": [
    "Compute Te and Ne from the crossing points of every synthetic observations."
   ]
  },
  {
   "cell_type": "code",
   "execution_count": 35,
   "id": "1d9a93b5-c43a-4704-aabe-09dd89f3b858",
   "metadata": {},
   "outputs": [],
   "source": [
    "T_O3, N_S2 = diag.getCrossTemDen('[OIII] 4363/5007', '[SII] 6731/6716', obs=obs)"
   ]
  },
  {
   "cell_type": "code",
   "execution_count": 36,
   "id": "9f647660-147a-4062-a2be-7efe402a1fdf",
   "metadata": {},
   "outputs": [
    {
     "data": {
      "image/png": "[encoded data removed]",
      "text/plain": [
       "<Figure size 432x288 with 1 Axes>"
      ]
     },
     "metadata": {
      "needs_background": "light"
     },
     "output_type": "display_data"
    }
   ],
   "source": [
    "f, ax = plt.subplots()\n",
    "ax.hist(T_O3, bins=20);"
   ]
  },
  {
   "cell_type": "code",
   "execution_count": 38,
   "id": "23877a82-9c4c-438f-82b5-e0e2efe6d040",
   "metadata": {},
   "outputs": [
    {
     "name": "stdout",
     "output_type": "stream",
     "text": [
      "Te = 11777.5 K +/- 323.4\n",
      "log Ne = 3.8 +/- 0.2  cm-3\n"
     ]
    }
   ],
   "source": [
    "print(f'Te = {np.nanmedian(T_O3):.1f} K +/- {np.nanstd(T_O3):.1f}')\n",
    "print(f'log Ne = {np.nanmedian(np.log10(N_S2)):.1f} +/- {np.nanstd(np.log10(N_S2)):.1f}  cm-3')"
   ]
  },
  {
   "cell_type": "markdown",
   "id": "091336bd-e870-4152-be28-b3906ed35f43",
   "metadata": {},
   "source": [
    "The following needs to have keras, scikit and ai4neb installed. It used machine learning to accelerate the computation of electron temperature and density. "
   ]
  },
  {
   "cell_type": "code",
   "execution_count": 39,
   "id": "bce33134-33eb-4e1e-91da-1c38dc444ff4",
   "metadata": {},
   "outputs": [],
   "source": [
    "pn.config.import_ai4neb()"
   ]
  },
  {
   "cell_type": "code",
   "execution_count": 121,
   "id": "23da110f-fc9e-4bac-a55e-1f5b34b2e4a1",
   "metadata": {},
   "outputs": [],
   "source": [
    "N_MonteCarlo = 10000 # do not try this without use_ANN = True, this will take too much time\n",
    "obs = pn.Observation(obsFile='./observations1.dat', fileFormat='lines_in_rows')\n",
    "obs.addMonteCarloObs(N=10000)\n",
    "l = obs.getLine(label='H1r_4861A')\n",
    "l.obsIntens = np.ones_like(l.obsIntens) * 100\n",
    "obs.def_EBV(label1='H1r_6563A', label2='H1r_4861A', r_theo=2.85)\n",
    "obs.correctData(normWave=4861.)\n",
    "diag = pn.Diagnostics()\n",
    "diag.addDiagsFromObs(obs)\n",
    "T_O3, N_S2 = diag.getCrossTemDen('[OIII] 4363/5007', '[SII] 6731/6716', obs=obs, use_ANN=True)"
   ]
  },
  {
   "cell_type": "code",
   "execution_count": 122,
   "id": "d4514759-7831-450c-9ad7-8102b6c353db",
   "metadata": {},
   "outputs": [
    {
     "name": "stdout",
     "output_type": "stream",
     "text": [
      "Te = 11716.0 K +/- 6954.2\n",
      "log Ne = 3.81 +/- 0.69  cm-3\n"
     ]
    }
   ],
   "source": [
    "print(f'Te = {np.nanmedian(T_O3):.1f} K +/- {np.nanstd(T_O3):.1f}')\n",
    "print(f'log Ne = {np.nanmedian(np.log10(N_S2)):.2f} +/- {np.nanstd(np.log10(N_S2)):.2f}  cm-3')"
   ]
  },
  {
   "cell_type": "code",
   "execution_count": 123,
   "id": "9597a0a5-6da7-49b9-af1c-616fa58b3c6a",
   "metadata": {},
   "outputs": [
    {
     "data": {
      "image/png": "[encoded data removed]",
      "text/plain": [
       "<Figure size 432x288 with 1 Axes>"
      ]
     },
     "metadata": {
      "needs_background": "light"
     },
     "output_type": "display_data"
    }
   ],
   "source": [
    "f, ax = plt.subplots()\n",
    "ax.hist(T_O3, bins=np.linspace(9000, 15000, 100));"
   ]
  },
  {
   "cell_type": "markdown",
   "id": "b5bf753c-a2ab-428b-a202-6a5b05f24b49",
   "metadata": {},
   "source": [
    "Redo the computation of reddening correction using coherent H$\\alpha$/H$\\beta$, taking into account previously determined Te and Ne"
   ]
  },
  {
   "cell_type": "code",
   "execution_count": 125,
   "id": "2daad66b-e53f-4f0d-9c06-f564c21a034e",
   "metadata": {},
   "outputs": [
    {
     "name": "stderr",
     "output_type": "stream",
     "text": [
      "/mnt/md5/data/morisset/insync/GoogleDrive_chris_morisset/Pro/PyNeb_devel/pyneb/core/pynebcore.py:3712: RuntimeWarning: divide by zero encountered in log10\n",
      "  logd = np.log10(deng)\n",
      "/mnt/md5/data/morisset/insync/GoogleDrive_chris_morisset/Pro/PyNeb_devel/pyneb/core/pynebcore.py:3730: RuntimeWarning: divide by zero encountered in true_divide\n",
      "  (1./temg, logd), method=method)\n"
     ]
    }
   ],
   "source": [
    "H1r = pn.RecAtom('H', 1)\n",
    "r_theo = H1r.getEmissivity(T_O3, N_S2, wave=6563, product=False) / H1r.getEmissivity(T_O3, N_S2, wave=4861, product=False)\n",
    "obs.def_EBV(label1='H1r_6563A', label2='H1r_4861A', r_theo=r_theo)\n",
    "obs.correctData(normWave=4861.)\n",
    "diag = pn.Diagnostics()\n",
    "diag.addDiagsFromObs(obs)\n",
    "T_O3, N_S2 = diag.getCrossTemDen('[OIII] 4363/5007', '[SII] 6731/6716', obs=obs, use_ANN=True)"
   ]
  },
  {
   "cell_type": "code",
   "execution_count": 126,
   "id": "73497328-d7b0-438b-8e47-64a1b807e23f",
   "metadata": {},
   "outputs": [
    {
     "name": "stdout",
     "output_type": "stream",
     "text": [
      "Te = 11718.2 K +/- 2571.7\n",
      "log Ne = 3.80 +/- nan  cm-3\n"
     ]
    },
    {
     "name": "stderr",
     "output_type": "stream",
     "text": [
      "/tmp/ipykernel_771532/3161403910.py:2: RuntimeWarning: divide by zero encountered in log10\n",
      "  print(f'log Ne = {np.nanmedian(np.log10(N_S2)):.2f} +/- {np.nanstd(np.log10(N_S2)):.2f}  cm-3')\n",
      "/mnt/md5/data/morisset/anaconda3/lib/python3.9/site-packages/numpy/lib/nanfunctions.py:1545: RuntimeWarning: invalid value encountered in subtract\n",
      "  np.subtract(arr, avg, out=arr, casting='unsafe')\n"
     ]
    }
   ],
   "source": [
    "print(f'Te = {np.nanmedian(T_O3):.1f} K +/- {np.nanstd(T_O3):.1f}')\n",
    "print(f'log Ne = {np.nanmedian(np.log10(N_S2)):.2f} +/- {np.nanstd(np.log10(N_S2)):.2f}  cm-3')"
   ]
  },
  {
   "cell_type": "code",
   "execution_count": 127,
   "id": "5093d190-4afa-417b-9e21-be818f198505",
   "metadata": {},
   "outputs": [
    {
     "name": "stdout",
     "output_type": "stream",
     "text": [
      "warng _ManageAtomicData: rec data not available for Ar3\n",
      "warng _ManageAtomicData: atom data not available for H1\n",
      "warng _ManageAtomicData: coll data not available for H1\n",
      "warng _ManageAtomicData: rec data not available for Ne3\n",
      "warng _ManageAtomicData: rec data not available for S2\n",
      "warng _ManageAtomicData: rec data not available for S3\n",
      "warng _ManageAtomicData: rec data not available for S4\n"
     ]
    },
    {
     "name": "stderr",
     "output_type": "stream",
     "text": [
      "/mnt/md5/data/morisset/insync/GoogleDrive_chris_morisset/Pro/PyNeb_devel/pyneb/core/pynebcore.py:957: RuntimeWarning: divide by zero encountered in log10\n",
      "  y = np.log10(x)\n",
      "/mnt/md5/data/morisset/insync/GoogleDrive_chris_morisset/Pro/PyNeb_devel/pyneb/core/pynebcore.py:1509: RuntimeWarning: divide by zero encountered in true_divide\n",
      "  resultArray[j][i] = CST.KCOLLRATE / tem ** 0.5 / stat_weight_j * Omegas[lev_j-1, lev_i-1]\n",
      "/mnt/md5/data/morisset/insync/GoogleDrive_chris_morisset/Pro/PyNeb_devel/pyneb/core/pynebcore.py:1511: RuntimeWarning: divide by zero encountered in true_divide\n",
      "  np.exp((energy_i - energy_j) / (CST.BOLTZMANN_ANGK * tem)) *\n",
      "/mnt/md5/data/morisset/insync/GoogleDrive_chris_morisset/Pro/PyNeb_devel/pyneb/core/pynebcore.py:1809: RuntimeWarning: invalid value encountered in multiply\n",
      "  coeff_matrix[row, col] = den_rav * q[col, row] + A[col, row]\n",
      "/mnt/md5/data/morisset/insync/GoogleDrive_chris_morisset/Pro/PyNeb_devel/pyneb/core/pynebcore.py:1812: RuntimeWarning: invalid value encountered in multiply\n",
      "  coeff_matrix[row, col] = den_rav * q[col, row]\n",
      "/mnt/md5/data/morisset/insync/GoogleDrive_chris_morisset/Pro/PyNeb_devel/pyneb/core/pynebcore.py:1814: RuntimeWarning: invalid value encountered in multiply\n",
      "  coeff_matrix[row, row] = -(den_rav * (sum_q_up[row] + sum_q_down[row]) + sum_A[row])\n",
      "/mnt/md5/data/morisset/insync/GoogleDrive_chris_morisset/Pro/PyNeb_devel/pyneb/core/pynebcore.py:3712: RuntimeWarning: divide by zero encountered in log10\n",
      "  logd = np.log10(deng)\n",
      "/mnt/md5/data/morisset/insync/GoogleDrive_chris_morisset/Pro/PyNeb_devel/pyneb/core/pynebcore.py:3730: RuntimeWarning: divide by zero encountered in true_divide\n",
      "  (1./temg, logd), method=method)\n",
      "/mnt/md5/data/morisset/insync/GoogleDrive_chris_morisset/Pro/PyNeb_devel/pyneb/core/pynebcore.py:1509: RuntimeWarning: invalid value encountered in multiply\n",
      "  resultArray[j][i] = CST.KCOLLRATE / tem ** 0.5 / stat_weight_j * Omegas[lev_j-1, lev_i-1]\n"
     ]
    }
   ],
   "source": [
    "#Create a dictionnary that olds all the atom objects\n",
    "atomDict = pn.getAtomDict(atom_list=all_atoms)\n",
    "ion_ab_dic = {}\n",
    "for line in obs.getSortedLines():\n",
    "    atom = atomDict[line.atom]\n",
    "    ion_ab_dic[line.label] = atom.getIonAbundance(line.corrIntens, T_O3, N_S2, to_eval=line.to_eval)"
   ]
  },
  {
   "cell_type": "code",
   "execution_count": 128,
   "id": "2a93959a-b82b-4fec-a29f-1ce45b13ffef",
   "metadata": {},
   "outputs": [
    {
     "data": {
      "text/plain": [
       "{'Ar3_7136A': array([2.17636982e-07,            nan, 1.80050937e-07, ...,\n",
       "        2.24374854e-07, 3.12714684e-07, 2.48714120e-07]),\n",
       " 'H1r_4861A': array([ 1., nan,  1., ...,  1.,  1.,  1.]),\n",
       " 'H1r_6563A': array([1.00024628,        nan, 1.00061251, ..., 1.0006681 , 0.99973524,\n",
       "        0.99988499]),\n",
       " 'N2_5755A': array([2.50954955e-06,            nan, 2.10767174e-06, ...,\n",
       "        2.26420850e-06, 2.91198422e-06, 2.48560587e-06]),\n",
       " 'N2_6548A': array([2.37475526e-06,            nan, 2.50375207e-06, ...,\n",
       "        2.27179549e-06, 2.78231630e-06, 2.47225008e-06]),\n",
       " 'N2_6584A': array([2.23503279e-06,            nan, 2.06581249e-06, ...,\n",
       "        2.36713708e-06, 2.60311193e-06, 2.26668636e-06]),\n",
       " 'Ne2_12.8m': array([5.69639580e-06,            nan, 4.74453378e-06, ...,\n",
       "        5.18139320e-06, 7.68122592e-06, 7.66142270e-06]),\n",
       " 'Ne3_15.6m': array([1.21775172e-05,            nan, 9.59885607e-06, ...,\n",
       "        1.12284825e-05, 1.65435545e-05, 1.43191438e-05]),\n",
       " 'Ne3_3869A': array([1.25252380e-05,            nan, 1.37634615e-05, ...,\n",
       "        1.08432250e-05, 1.18580369e-05, 1.37363562e-05]),\n",
       " 'Ne3_3968A': array([1.38775626e-05,            nan, 1.55623167e-05, ...,\n",
       "        1.32542560e-05, 1.35185332e-05, 1.66788643e-05]),\n",
       " 'O1_6300A': array([1.50356580e-06,            nan, 1.37098634e-06, ...,\n",
       "        1.33078835e-06, 1.75101264e-06, 1.88437305e-06]),\n",
       " 'O1_6364A': array([1.49533839e-06,            nan, 1.28753382e-06, ...,\n",
       "        1.25585871e-06, 1.69481455e-06, 1.47815275e-06]),\n",
       " 'O2_3726A': array([2.57269000e-05,            nan, 2.17835126e-05, ...,\n",
       "        1.57266103e-05, 3.17754692e-05, 3.24070717e-05]),\n",
       " 'O2_3729A': array([2.65468449e-05,            nan, 2.54341716e-05, ...,\n",
       "        2.07219676e-05, 3.43491577e-05, 3.63668681e-05]),\n",
       " 'O2_7319A+': array([2.35957080e-05,            nan, 3.23082195e-05, ...,\n",
       "        2.56236015e-05, 3.16927578e-05, 3.11469502e-05]),\n",
       " 'O2_7330A+': array([2.31954565e-05,            nan, 2.55521937e-05, ...,\n",
       "        2.28221030e-05, 2.96372183e-05, 2.86258794e-05]),\n",
       " 'O3_4363A': array([8.56829112e-05,            nan, 8.51118622e-05, ...,\n",
       "        7.84777484e-05, 9.07306033e-05, 1.03852437e-04]),\n",
       " 'O3_5007A': array([8.61647791e-05,            nan, 8.66901224e-05, ...,\n",
       "        8.00124437e-05, 8.93666048e-05, 1.02997860e-04]),\n",
       " 'S2_4069A': array([1.40558194e-07,            nan, 1.95884213e-07, ...,\n",
       "        1.40908189e-07, 1.44995348e-07, 1.42308409e-07]),\n",
       " 'S2_4076A': array([2.25967717e-07,            nan, 2.72428659e-07, ...,\n",
       "        2.18297400e-07, 2.60852586e-07, 2.36287563e-07]),\n",
       " 'S2_6716A': array([9.40446463e-08,            nan, 7.10702379e-08, ...,\n",
       "        7.31160595e-08, 1.34632302e-07, 1.16300453e-07]),\n",
       " 'S2_6731A': array([9.40746581e-08,            nan, 7.10141264e-08, ...,\n",
       "        7.30122851e-08, 1.34895243e-07, 1.16479095e-07]),\n",
       " 'S3_18.7m': array([6.79308967e-07,            nan, 4.90313466e-07, ...,\n",
       "        5.24430180e-07, 1.18187130e-06, 8.12839901e-07]),\n",
       " 'S3_6312A': array([6.97765449e-07,            nan, 7.56847528e-07, ...,\n",
       "        6.40966536e-07, 9.23654733e-07, 7.60446824e-07]),\n",
       " 'S4_10.5m': array([1.29087109e-07,            nan, 9.53726219e-08, ...,\n",
       "        9.85733296e-08, 1.93620252e-07, 1.80194728e-07])}"
      ]
     },
     "execution_count": 128,
     "metadata": {},
     "output_type": "execute_result"
    }
   ],
   "source": [
    "ion_ab_dic"
   ]
  },
  {
   "cell_type": "markdown",
   "id": "5c54cf2a-78e5-4b7c-bca6-2a051cc169f8",
   "metadata": {},
   "source": [
    "Define O/H = O$^+$/H$^+$ + O$^{++}$/H$^+$, where O$^+$ is the mean value of the ionic abundances obtained from the two [OII]3726, 29 lines. No ICF is used here."
   ]
  },
  {
   "cell_type": "code",
   "execution_count": 129,
   "id": "73ed344e-131c-4280-89ab-148729a217ee",
   "metadata": {},
   "outputs": [],
   "source": [
    "OH = ion_ab_dic['O3_5007A'] + 0.5*(ion_ab_dic['O2_3726A'] + ion_ab_dic['O2_3729A'])"
   ]
  },
  {
   "cell_type": "code",
   "execution_count": 130,
   "id": "df168da6-c7c7-4031-9231-f74a353f434f",
   "metadata": {},
   "outputs": [
    {
     "data": {
      "image/png": "[encoded data removed]",
      "text/plain": [
       "<Figure size 432x288 with 1 Axes>"
      ]
     },
     "metadata": {
      "needs_background": "light"
     },
     "output_type": "display_data"
    }
   ],
   "source": [
    "f, ax = plt.subplots()\n",
    "ax.hist(12 + np.log10(OH), bins = np.linspace(7.5, 9.0, 100));"
   ]
  },
  {
   "cell_type": "code",
   "execution_count": 131,
   "id": "6820f3ca-deac-4c11-ab5f-b28b39ddde8b",
   "metadata": {},
   "outputs": [
    {
     "name": "stdout",
     "output_type": "stream",
     "text": [
      "12 + log(OH) = 8.07 +/- 0.17\n"
     ]
    }
   ],
   "source": [
    "print(f'12 + log(OH) = {12+np.nanmedian(np.log10(OH)):.2f} +/- {np.nanstd(np.log10(OH)):.2f}')"
   ]
  }
 ],
 "metadata": {
  "kernelspec": {
   "display_name": "Python 3 (ipykernel)",
   "language": "python",
   "name": "python3"
  },
  "language_info": {
   "codemirror_mode": {
    "name": "ipython",
    "version": 3
   },
   "file_extension": ".py",
   "mimetype": "text/x-python",
   "name": "python",
   "nbconvert_exporter": "python",
   "pygments_lexer": "ipython3",
   "version": "3.9.12"
  }
 },
 "nbformat": 4,
 "nbformat_minor": 5
}
